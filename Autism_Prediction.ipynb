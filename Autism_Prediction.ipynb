{
  "cells": [
    {
      "cell_type": "markdown",
      "metadata": {
        "id": "view-in-github",
        "colab_type": "text"
      },
      "source": [
        "<a href=\"https://colab.research.google.com/github/thiunuwan/Autism-Prediction/blob/main/Autism_Prediction.ipynb\" target=\"_parent\"><img src=\"https://colab.research.google.com/assets/colab-badge.svg\" alt=\"Open In Colab\"/></a>"
      ]
    },
    {
      "cell_type": "markdown",
      "metadata": {
        "id": "99uXDYR6GrUc"
      },
      "source": [
        "#**Autism Prediction Using Machine Learning**\n",
        "\n",
        "In this project, we will predict the presence of Autism Spectrum Disorder (ASD) using machine learning algorithms such as Decision Tree, Random Forest, and XGBoost etc. We will also perform hyperparameter tuning to optimize model performance and evaluate the results based on various metrics.\n",
        "\n",
        "colab link : https://colab.research.google.com/drive/1cYc49xOiV0OO0tbxsyODtwSIlNeReuTT?usp=sharing"
      ]
    },
    {
      "cell_type": "markdown",
      "metadata": {
        "id": "UWo1oaUgBXxi"
      },
      "source": [
        "##**Section 1:Introduction**\n",
        "\n",
        "\n"
      ]
    },
    {
      "cell_type": "markdown",
      "metadata": {
        "id": "slG5z93lID9I"
      },
      "source": [
        "###**1.1 Problem Statement**\n",
        "Autism Spectrum Disorder (ASD) encompasses a range of neurodevelopmental conditions characterized by challenges in social interaction, communication, and behavior. Early and accurate detection of ASD is vital for implementing timely interventions that can significantly enhance the quality of life for individuals affected. This project aims to develop a predictive model capable of assessing the likelihood of an individual being on the autism spectrum based on various demographic and behavioral attributes.\n",
        "\n",
        "###**1.2 Objective**\n",
        "The primary objective of this study is to construct a machine learning model that can predict the probability of an individual having ASD. By analyzing features such as age, gender, and responses to behavioral assessments.\n",
        "\n",
        "###**1.3 Dataset Overview**\n",
        "Features:\n",
        "- ID - ID of the patient\n",
        "- A1_Score to A10_Score - Score based on Autism Spectrum Quotient (AQ) 10 item screening tool\n",
        "- age - Age of the patient in years\n",
        "- gender - Gender of the patient\n",
        "- ethnicity - Ethnicity of the patient\n",
        "- jaundice - Whether the patient had jaundice at the time of birth\n",
        "- autism - Whether an immediate family member has been diagnosed with autism\n",
        "- contry_of_res - Country of residence of the patient\n",
        "- used_app_before - Whether the patient has undergone a screening test before\n",
        "- result - Score for AQ1-10 screening test\n",
        "- age_desc - Age of the patient\n",
        "- relation - Relation of patient who completed the test\n",
        "- Class/ASD - Classified result as 0 or 1. Here 0 represents No and 1 represents Yes. This is the target column, and during submission submit the values as 0 or 1 only.\n"
      ]
    },
    {
      "cell_type": "markdown",
      "metadata": {
        "id": "GSU79G3lBrry"
      },
      "source": [
        "##**Section 2:Importing Libraries**\n",
        "\n",
        "In this section, we will import the required libraries for data manipulation, model training, and evaluation.\n"
      ]
    },
    {
      "cell_type": "code",
      "source": [
        "# install catboost\n",
        "!pip install -q catboost"
      ],
      "metadata": {
        "id": "jD4tdaSAQqYD"
      },
      "execution_count": null,
      "outputs": []
    },
    {
      "cell_type": "code",
      "execution_count": null,
      "metadata": {
        "id": "m0HOXjeZLO8B"
      },
      "outputs": [],
      "source": [
        "# Data Manipulation and Analysis\n",
        "import pandas as pd\n",
        "import numpy as np\n",
        "\n",
        "# Data Preprocessing\n",
        "from sklearn.model_selection import train_test_split\n",
        "from sklearn.preprocessing import StandardScaler\n",
        "import missingno as msno\n",
        "\n",
        "# Machine Learning Models\n",
        "from sklearn.tree import DecisionTreeClassifier\n",
        "from sklearn.ensemble import RandomForestClassifier\n",
        "from xgboost import XGBClassifier\n",
        "\n",
        "# Hyperparameter Tuning\n",
        "from sklearn.model_selection import GridSearchCV, RandomizedSearchCV, cross_val_score\n",
        "\n",
        "# Evaluation Metrics\n",
        "from sklearn.metrics import accuracy_score, confusion_matrix, classification_report\n",
        "\n",
        "# Visualization\n",
        "import matplotlib.pyplot as plt\n",
        "import seaborn as sns\n",
        "\n",
        "# Handling Imbalanced Data\n",
        "from imblearn.over_sampling import SMOTE\n",
        "\n",
        "# Classifiers\n",
        "from sklearn.tree import DecisionTreeClassifier\n",
        "from sklearn.ensemble import RandomForestClassifier\n",
        "from xgboost import XGBClassifier\n",
        "from sklearn.svm import SVC\n",
        "from sklearn.neighbors import KNeighborsClassifier\n",
        "from sklearn.naive_bayes import GaussianNB\n",
        "from sklearn.ensemble import ExtraTreesClassifier\n",
        "from catboost import CatBoostClassifier\n",
        "from sklearn.ensemble import GradientBoostingClassifier\n",
        "\n",
        "from sklearn.ensemble import VotingClassifier\n",
        "from sklearn.ensemble import StackingClassifier\n",
        "\n",
        "from scipy.stats import chi2_contingency\n",
        "import scipy.stats as stats\n",
        "\n",
        "from sklearn.model_selection import RandomizedSearchCV\n",
        "from sklearn.model_selection import GridSearchCV"
      ]
    },
    {
      "cell_type": "markdown",
      "metadata": {
        "id": "2Eb8zV2-adVe"
      },
      "source": [
        "##**Section 3:Data Loading and Basic  Exploration**\n",
        "\n",
        "Here we load the dataset, check for missing values, and visualize its basic properties to understand the structure and relationships in the data.\n",
        "\n",
        "**Fetch or Load the Dataset**"
      ]
    },
    {
      "cell_type": "code",
      "execution_count": null,
      "metadata": {
        "id": "MFIESW_gYCCs"
      },
      "outputs": [],
      "source": [
        "#read the csv data to a pandas dataframe\n",
        "df = pd.read_csv(\"/content/train.csv\");"
      ]
    },
    {
      "cell_type": "code",
      "execution_count": null,
      "metadata": {
        "id": "oJd9VZc2aybV",
        "colab": {
          "base_uri": "https://localhost:8080/"
        },
        "outputId": "9dd1f5c4-762e-4573-c278-527f2fbdfd03"
      },
      "outputs": [
        {
          "output_type": "execute_result",
          "data": {
            "text/plain": [
              "(800, 22)"
            ]
          },
          "metadata": {},
          "execution_count": 131
        }
      ],
      "source": [
        "df.shape"
      ]
    },
    {
      "cell_type": "markdown",
      "metadata": {
        "id": "_ATrjn4GdQmn"
      },
      "source": [
        "**Display Basic Dataset Information**\n"
      ]
    },
    {
      "cell_type": "code",
      "execution_count": null,
      "metadata": {
        "id": "67pwEekfa0Wz",
        "colab": {
          "base_uri": "https://localhost:8080/",
          "height": 313
        },
        "outputId": "c283530c-9ca8-4b25-e152-cc8d66b6fcf8"
      },
      "outputs": [
        {
          "output_type": "execute_result",
          "data": {
            "text/plain": [
              "   ID  A1_Score  A2_Score  A3_Score  A4_Score  A5_Score  A6_Score  A7_Score  \\\n",
              "0   1         1         0         1         0         1         0         1   \n",
              "1   2         0         0         0         0         0         0         0   \n",
              "2   3         1         1         1         1         1         1         1   \n",
              "3   4         0         0         0         0         0         0         0   \n",
              "4   5         0         0         0         0         0         0         0   \n",
              "\n",
              "   A8_Score  A9_Score  A10_Score        age gender       ethnicity jaundice  \\\n",
              "0         0         1          1  38.172746      f               ?       no   \n",
              "1         0         0          0  47.750517      m               ?       no   \n",
              "2         1         1          1   7.380373      m  White-European       no   \n",
              "3         0         0          0  23.561927      f               ?       no   \n",
              "4         0         0          0  43.205790      m               ?       no   \n",
              "\n",
              "  austim  contry_of_res used_app_before     result     age_desc relation  \\\n",
              "0     no        Austria              no   6.351166  18 and more     Self   \n",
              "1     no          India              no   2.255185  18 and more     Self   \n",
              "2    yes  United States              no  14.851484  18 and more     Self   \n",
              "3     no  United States              no   2.276617  18 and more     Self   \n",
              "4     no   South Africa              no  -4.777286  18 and more     Self   \n",
              "\n",
              "   Class/ASD  \n",
              "0          0  \n",
              "1          0  \n",
              "2          1  \n",
              "3          0  \n",
              "4          0  "
            ],
            "text/html": [
              "\n",
              "  <div id=\"df-65f00654-a9dd-42ed-a6d6-758835a5b053\" class=\"colab-df-container\">\n",
              "    <div>\n",
              "<style scoped>\n",
              "    .dataframe tbody tr th:only-of-type {\n",
              "        vertical-align: middle;\n",
              "    }\n",
              "\n",
              "    .dataframe tbody tr th {\n",
              "        vertical-align: top;\n",
              "    }\n",
              "\n",
              "    .dataframe thead th {\n",
              "        text-align: right;\n",
              "    }\n",
              "</style>\n",
              "<table border=\"1\" class=\"dataframe\">\n",
              "  <thead>\n",
              "    <tr style=\"text-align: right;\">\n",
              "      <th></th>\n",
              "      <th>ID</th>\n",
              "      <th>A1_Score</th>\n",
              "      <th>A2_Score</th>\n",
              "      <th>A3_Score</th>\n",
              "      <th>A4_Score</th>\n",
              "      <th>A5_Score</th>\n",
              "      <th>A6_Score</th>\n",
              "      <th>A7_Score</th>\n",
              "      <th>A8_Score</th>\n",
              "      <th>A9_Score</th>\n",
              "      <th>A10_Score</th>\n",
              "      <th>age</th>\n",
              "      <th>gender</th>\n",
              "      <th>ethnicity</th>\n",
              "      <th>jaundice</th>\n",
              "      <th>austim</th>\n",
              "      <th>contry_of_res</th>\n",
              "      <th>used_app_before</th>\n",
              "      <th>result</th>\n",
              "      <th>age_desc</th>\n",
              "      <th>relation</th>\n",
              "      <th>Class/ASD</th>\n",
              "    </tr>\n",
              "  </thead>\n",
              "  <tbody>\n",
              "    <tr>\n",
              "      <th>0</th>\n",
              "      <td>1</td>\n",
              "      <td>1</td>\n",
              "      <td>0</td>\n",
              "      <td>1</td>\n",
              "      <td>0</td>\n",
              "      <td>1</td>\n",
              "      <td>0</td>\n",
              "      <td>1</td>\n",
              "      <td>0</td>\n",
              "      <td>1</td>\n",
              "      <td>1</td>\n",
              "      <td>38.172746</td>\n",
              "      <td>f</td>\n",
              "      <td>?</td>\n",
              "      <td>no</td>\n",
              "      <td>no</td>\n",
              "      <td>Austria</td>\n",
              "      <td>no</td>\n",
              "      <td>6.351166</td>\n",
              "      <td>18 and more</td>\n",
              "      <td>Self</td>\n",
              "      <td>0</td>\n",
              "    </tr>\n",
              "    <tr>\n",
              "      <th>1</th>\n",
              "      <td>2</td>\n",
              "      <td>0</td>\n",
              "      <td>0</td>\n",
              "      <td>0</td>\n",
              "      <td>0</td>\n",
              "      <td>0</td>\n",
              "      <td>0</td>\n",
              "      <td>0</td>\n",
              "      <td>0</td>\n",
              "      <td>0</td>\n",
              "      <td>0</td>\n",
              "      <td>47.750517</td>\n",
              "      <td>m</td>\n",
              "      <td>?</td>\n",
              "      <td>no</td>\n",
              "      <td>no</td>\n",
              "      <td>India</td>\n",
              "      <td>no</td>\n",
              "      <td>2.255185</td>\n",
              "      <td>18 and more</td>\n",
              "      <td>Self</td>\n",
              "      <td>0</td>\n",
              "    </tr>\n",
              "    <tr>\n",
              "      <th>2</th>\n",
              "      <td>3</td>\n",
              "      <td>1</td>\n",
              "      <td>1</td>\n",
              "      <td>1</td>\n",
              "      <td>1</td>\n",
              "      <td>1</td>\n",
              "      <td>1</td>\n",
              "      <td>1</td>\n",
              "      <td>1</td>\n",
              "      <td>1</td>\n",
              "      <td>1</td>\n",
              "      <td>7.380373</td>\n",
              "      <td>m</td>\n",
              "      <td>White-European</td>\n",
              "      <td>no</td>\n",
              "      <td>yes</td>\n",
              "      <td>United States</td>\n",
              "      <td>no</td>\n",
              "      <td>14.851484</td>\n",
              "      <td>18 and more</td>\n",
              "      <td>Self</td>\n",
              "      <td>1</td>\n",
              "    </tr>\n",
              "    <tr>\n",
              "      <th>3</th>\n",
              "      <td>4</td>\n",
              "      <td>0</td>\n",
              "      <td>0</td>\n",
              "      <td>0</td>\n",
              "      <td>0</td>\n",
              "      <td>0</td>\n",
              "      <td>0</td>\n",
              "      <td>0</td>\n",
              "      <td>0</td>\n",
              "      <td>0</td>\n",
              "      <td>0</td>\n",
              "      <td>23.561927</td>\n",
              "      <td>f</td>\n",
              "      <td>?</td>\n",
              "      <td>no</td>\n",
              "      <td>no</td>\n",
              "      <td>United States</td>\n",
              "      <td>no</td>\n",
              "      <td>2.276617</td>\n",
              "      <td>18 and more</td>\n",
              "      <td>Self</td>\n",
              "      <td>0</td>\n",
              "    </tr>\n",
              "    <tr>\n",
              "      <th>4</th>\n",
              "      <td>5</td>\n",
              "      <td>0</td>\n",
              "      <td>0</td>\n",
              "      <td>0</td>\n",
              "      <td>0</td>\n",
              "      <td>0</td>\n",
              "      <td>0</td>\n",
              "      <td>0</td>\n",
              "      <td>0</td>\n",
              "      <td>0</td>\n",
              "      <td>0</td>\n",
              "      <td>43.205790</td>\n",
              "      <td>m</td>\n",
              "      <td>?</td>\n",
              "      <td>no</td>\n",
              "      <td>no</td>\n",
              "      <td>South Africa</td>\n",
              "      <td>no</td>\n",
              "      <td>-4.777286</td>\n",
              "      <td>18 and more</td>\n",
              "      <td>Self</td>\n",
              "      <td>0</td>\n",
              "    </tr>\n",
              "  </tbody>\n",
              "</table>\n",
              "</div>\n",
              "    <div class=\"colab-df-buttons\">\n",
              "\n",
              "  <div class=\"colab-df-container\">\n",
              "    <button class=\"colab-df-convert\" onclick=\"convertToInteractive('df-65f00654-a9dd-42ed-a6d6-758835a5b053')\"\n",
              "            title=\"Convert this dataframe to an interactive table.\"\n",
              "            style=\"display:none;\">\n",
              "\n",
              "  <svg xmlns=\"http://www.w3.org/2000/svg\" height=\"24px\" viewBox=\"0 -960 960 960\">\n",
              "    <path d=\"M120-120v-720h720v720H120Zm60-500h600v-160H180v160Zm220 220h160v-160H400v160Zm0 220h160v-160H400v160ZM180-400h160v-160H180v160Zm440 0h160v-160H620v160ZM180-180h160v-160H180v160Zm440 0h160v-160H620v160Z\"/>\n",
              "  </svg>\n",
              "    </button>\n",
              "\n",
              "  <style>\n",
              "    .colab-df-container {\n",
              "      display:flex;\n",
              "      gap: 12px;\n",
              "    }\n",
              "\n",
              "    .colab-df-convert {\n",
              "      background-color: #E8F0FE;\n",
              "      border: none;\n",
              "      border-radius: 50%;\n",
              "      cursor: pointer;\n",
              "      display: none;\n",
              "      fill: #1967D2;\n",
              "      height: 32px;\n",
              "      padding: 0 0 0 0;\n",
              "      width: 32px;\n",
              "    }\n",
              "\n",
              "    .colab-df-convert:hover {\n",
              "      background-color: #E2EBFA;\n",
              "      box-shadow: 0px 1px 2px rgba(60, 64, 67, 0.3), 0px 1px 3px 1px rgba(60, 64, 67, 0.15);\n",
              "      fill: #174EA6;\n",
              "    }\n",
              "\n",
              "    .colab-df-buttons div {\n",
              "      margin-bottom: 4px;\n",
              "    }\n",
              "\n",
              "    [theme=dark] .colab-df-convert {\n",
              "      background-color: #3B4455;\n",
              "      fill: #D2E3FC;\n",
              "    }\n",
              "\n",
              "    [theme=dark] .colab-df-convert:hover {\n",
              "      background-color: #434B5C;\n",
              "      box-shadow: 0px 1px 3px 1px rgba(0, 0, 0, 0.15);\n",
              "      filter: drop-shadow(0px 1px 2px rgba(0, 0, 0, 0.3));\n",
              "      fill: #FFFFFF;\n",
              "    }\n",
              "  </style>\n",
              "\n",
              "    <script>\n",
              "      const buttonEl =\n",
              "        document.querySelector('#df-65f00654-a9dd-42ed-a6d6-758835a5b053 button.colab-df-convert');\n",
              "      buttonEl.style.display =\n",
              "        google.colab.kernel.accessAllowed ? 'block' : 'none';\n",
              "\n",
              "      async function convertToInteractive(key) {\n",
              "        const element = document.querySelector('#df-65f00654-a9dd-42ed-a6d6-758835a5b053');\n",
              "        const dataTable =\n",
              "          await google.colab.kernel.invokeFunction('convertToInteractive',\n",
              "                                                    [key], {});\n",
              "        if (!dataTable) return;\n",
              "\n",
              "        const docLinkHtml = 'Like what you see? Visit the ' +\n",
              "          '<a target=\"_blank\" href=https://colab.research.google.com/notebooks/data_table.ipynb>data table notebook</a>'\n",
              "          + ' to learn more about interactive tables.';\n",
              "        element.innerHTML = '';\n",
              "        dataTable['output_type'] = 'display_data';\n",
              "        await google.colab.output.renderOutput(dataTable, element);\n",
              "        const docLink = document.createElement('div');\n",
              "        docLink.innerHTML = docLinkHtml;\n",
              "        element.appendChild(docLink);\n",
              "      }\n",
              "    </script>\n",
              "  </div>\n",
              "\n",
              "\n",
              "<div id=\"df-fc75482d-e64e-4cf3-8c9f-07dfca2344ba\">\n",
              "  <button class=\"colab-df-quickchart\" onclick=\"quickchart('df-fc75482d-e64e-4cf3-8c9f-07dfca2344ba')\"\n",
              "            title=\"Suggest charts\"\n",
              "            style=\"display:none;\">\n",
              "\n",
              "<svg xmlns=\"http://www.w3.org/2000/svg\" height=\"24px\"viewBox=\"0 0 24 24\"\n",
              "     width=\"24px\">\n",
              "    <g>\n",
              "        <path d=\"M19 3H5c-1.1 0-2 .9-2 2v14c0 1.1.9 2 2 2h14c1.1 0 2-.9 2-2V5c0-1.1-.9-2-2-2zM9 17H7v-7h2v7zm4 0h-2V7h2v10zm4 0h-2v-4h2v4z\"/>\n",
              "    </g>\n",
              "</svg>\n",
              "  </button>\n",
              "\n",
              "<style>\n",
              "  .colab-df-quickchart {\n",
              "      --bg-color: #E8F0FE;\n",
              "      --fill-color: #1967D2;\n",
              "      --hover-bg-color: #E2EBFA;\n",
              "      --hover-fill-color: #174EA6;\n",
              "      --disabled-fill-color: #AAA;\n",
              "      --disabled-bg-color: #DDD;\n",
              "  }\n",
              "\n",
              "  [theme=dark] .colab-df-quickchart {\n",
              "      --bg-color: #3B4455;\n",
              "      --fill-color: #D2E3FC;\n",
              "      --hover-bg-color: #434B5C;\n",
              "      --hover-fill-color: #FFFFFF;\n",
              "      --disabled-bg-color: #3B4455;\n",
              "      --disabled-fill-color: #666;\n",
              "  }\n",
              "\n",
              "  .colab-df-quickchart {\n",
              "    background-color: var(--bg-color);\n",
              "    border: none;\n",
              "    border-radius: 50%;\n",
              "    cursor: pointer;\n",
              "    display: none;\n",
              "    fill: var(--fill-color);\n",
              "    height: 32px;\n",
              "    padding: 0;\n",
              "    width: 32px;\n",
              "  }\n",
              "\n",
              "  .colab-df-quickchart:hover {\n",
              "    background-color: var(--hover-bg-color);\n",
              "    box-shadow: 0 1px 2px rgba(60, 64, 67, 0.3), 0 1px 3px 1px rgba(60, 64, 67, 0.15);\n",
              "    fill: var(--button-hover-fill-color);\n",
              "  }\n",
              "\n",
              "  .colab-df-quickchart-complete:disabled,\n",
              "  .colab-df-quickchart-complete:disabled:hover {\n",
              "    background-color: var(--disabled-bg-color);\n",
              "    fill: var(--disabled-fill-color);\n",
              "    box-shadow: none;\n",
              "  }\n",
              "\n",
              "  .colab-df-spinner {\n",
              "    border: 2px solid var(--fill-color);\n",
              "    border-color: transparent;\n",
              "    border-bottom-color: var(--fill-color);\n",
              "    animation:\n",
              "      spin 1s steps(1) infinite;\n",
              "  }\n",
              "\n",
              "  @keyframes spin {\n",
              "    0% {\n",
              "      border-color: transparent;\n",
              "      border-bottom-color: var(--fill-color);\n",
              "      border-left-color: var(--fill-color);\n",
              "    }\n",
              "    20% {\n",
              "      border-color: transparent;\n",
              "      border-left-color: var(--fill-color);\n",
              "      border-top-color: var(--fill-color);\n",
              "    }\n",
              "    30% {\n",
              "      border-color: transparent;\n",
              "      border-left-color: var(--fill-color);\n",
              "      border-top-color: var(--fill-color);\n",
              "      border-right-color: var(--fill-color);\n",
              "    }\n",
              "    40% {\n",
              "      border-color: transparent;\n",
              "      border-right-color: var(--fill-color);\n",
              "      border-top-color: var(--fill-color);\n",
              "    }\n",
              "    60% {\n",
              "      border-color: transparent;\n",
              "      border-right-color: var(--fill-color);\n",
              "    }\n",
              "    80% {\n",
              "      border-color: transparent;\n",
              "      border-right-color: var(--fill-color);\n",
              "      border-bottom-color: var(--fill-color);\n",
              "    }\n",
              "    90% {\n",
              "      border-color: transparent;\n",
              "      border-bottom-color: var(--fill-color);\n",
              "    }\n",
              "  }\n",
              "</style>\n",
              "\n",
              "  <script>\n",
              "    async function quickchart(key) {\n",
              "      const quickchartButtonEl =\n",
              "        document.querySelector('#' + key + ' button');\n",
              "      quickchartButtonEl.disabled = true;  // To prevent multiple clicks.\n",
              "      quickchartButtonEl.classList.add('colab-df-spinner');\n",
              "      try {\n",
              "        const charts = await google.colab.kernel.invokeFunction(\n",
              "            'suggestCharts', [key], {});\n",
              "      } catch (error) {\n",
              "        console.error('Error during call to suggestCharts:', error);\n",
              "      }\n",
              "      quickchartButtonEl.classList.remove('colab-df-spinner');\n",
              "      quickchartButtonEl.classList.add('colab-df-quickchart-complete');\n",
              "    }\n",
              "    (() => {\n",
              "      let quickchartButtonEl =\n",
              "        document.querySelector('#df-fc75482d-e64e-4cf3-8c9f-07dfca2344ba button');\n",
              "      quickchartButtonEl.style.display =\n",
              "        google.colab.kernel.accessAllowed ? 'block' : 'none';\n",
              "    })();\n",
              "  </script>\n",
              "</div>\n",
              "\n",
              "    </div>\n",
              "  </div>\n"
            ],
            "application/vnd.google.colaboratory.intrinsic+json": {
              "type": "dataframe",
              "variable_name": "df"
            }
          },
          "metadata": {},
          "execution_count": 132
        }
      ],
      "source": [
        "# display all columns of a dataframe\n",
        "pd.set_option('display.max_columns', None)\n",
        "df.head()"
      ]
    },
    {
      "cell_type": "code",
      "execution_count": null,
      "metadata": {
        "id": "DD-wh8pGbUpC",
        "colab": {
          "base_uri": "https://localhost:8080/"
        },
        "outputId": "49c386a4-7b93-47e8-8541-ddf1e6af78c5"
      },
      "outputs": [
        {
          "output_type": "stream",
          "name": "stdout",
          "text": [
            "<class 'pandas.core.frame.DataFrame'>\n",
            "RangeIndex: 800 entries, 0 to 799\n",
            "Data columns (total 22 columns):\n",
            " #   Column           Non-Null Count  Dtype  \n",
            "---  ------           --------------  -----  \n",
            " 0   ID               800 non-null    int64  \n",
            " 1   A1_Score         800 non-null    int64  \n",
            " 2   A2_Score         800 non-null    int64  \n",
            " 3   A3_Score         800 non-null    int64  \n",
            " 4   A4_Score         800 non-null    int64  \n",
            " 5   A5_Score         800 non-null    int64  \n",
            " 6   A6_Score         800 non-null    int64  \n",
            " 7   A7_Score         800 non-null    int64  \n",
            " 8   A8_Score         800 non-null    int64  \n",
            " 9   A9_Score         800 non-null    int64  \n",
            " 10  A10_Score        800 non-null    int64  \n",
            " 11  age              800 non-null    float64\n",
            " 12  gender           800 non-null    object \n",
            " 13  ethnicity        800 non-null    object \n",
            " 14  jaundice         800 non-null    object \n",
            " 15  austim           800 non-null    object \n",
            " 16  contry_of_res    800 non-null    object \n",
            " 17  used_app_before  800 non-null    object \n",
            " 18  result           800 non-null    float64\n",
            " 19  age_desc         800 non-null    object \n",
            " 20  relation         800 non-null    object \n",
            " 21  Class/ASD        800 non-null    int64  \n",
            "dtypes: float64(2), int64(12), object(8)\n",
            "memory usage: 137.6+ KB\n"
          ]
        }
      ],
      "source": [
        "df.info()"
      ]
    },
    {
      "cell_type": "code",
      "execution_count": null,
      "metadata": {
        "id": "TAPdbsZfbxQd"
      },
      "outputs": [],
      "source": [
        "# convert age column datatype to integer\n",
        "df[\"age\"] = df[\"age\"].astype(int)"
      ]
    },
    {
      "cell_type": "markdown",
      "metadata": {
        "id": "MvC-HMtBdYhC"
      },
      "source": [
        "**Summary Statistics**"
      ]
    },
    {
      "cell_type": "code",
      "execution_count": null,
      "metadata": {
        "id": "kPiAxr_wdQk8",
        "colab": {
          "base_uri": "https://localhost:8080/",
          "height": 320
        },
        "outputId": "ba2c20a5-b168-48b7-9220-1c83369f5589"
      },
      "outputs": [
        {
          "output_type": "execute_result",
          "data": {
            "text/plain": [
              "             ID    A1_Score    A2_Score    A3_Score   A4_Score    A5_Score  \\\n",
              "count  800.0000  800.000000  800.000000  800.000000  800.00000  800.000000   \n",
              "mean   400.5000    0.560000    0.530000    0.450000    0.41500    0.395000   \n",
              "std    231.0844    0.496697    0.499411    0.497805    0.49303    0.489157   \n",
              "min      1.0000    0.000000    0.000000    0.000000    0.00000    0.000000   \n",
              "25%    200.7500    0.000000    0.000000    0.000000    0.00000    0.000000   \n",
              "50%    400.5000    1.000000    1.000000    0.000000    0.00000    0.000000   \n",
              "75%    600.2500    1.000000    1.000000    1.000000    1.00000    1.000000   \n",
              "max    800.0000    1.000000    1.000000    1.000000    1.00000    1.000000   \n",
              "\n",
              "         A6_Score    A7_Score    A8_Score    A9_Score   A10_Score         age  \\\n",
              "count  800.000000  800.000000  800.000000  800.000000  800.000000  800.000000   \n",
              "mean     0.303750    0.397500    0.508750    0.495000    0.617500   27.963750   \n",
              "std      0.460164    0.489687    0.500236    0.500288    0.486302   16.329827   \n",
              "min      0.000000    0.000000    0.000000    0.000000    0.000000    2.000000   \n",
              "25%      0.000000    0.000000    0.000000    0.000000    0.000000   17.000000   \n",
              "50%      0.000000    0.000000    1.000000    0.000000    1.000000   24.000000   \n",
              "75%      1.000000    1.000000    1.000000    1.000000    1.000000   35.250000   \n",
              "max      1.000000    1.000000    1.000000    1.000000    1.000000   89.000000   \n",
              "\n",
              "           result   Class/ASD  \n",
              "count  800.000000  800.000000  \n",
              "mean     8.537303    0.201250  \n",
              "std      4.807676    0.401185  \n",
              "min     -6.137748    0.000000  \n",
              "25%      5.306575    0.000000  \n",
              "50%      9.605299    0.000000  \n",
              "75%     12.514484    0.000000  \n",
              "max     15.853126    1.000000  "
            ],
            "text/html": [
              "\n",
              "  <div id=\"df-aff651d6-ef76-4738-b1d1-e339d94637b5\" class=\"colab-df-container\">\n",
              "    <div>\n",
              "<style scoped>\n",
              "    .dataframe tbody tr th:only-of-type {\n",
              "        vertical-align: middle;\n",
              "    }\n",
              "\n",
              "    .dataframe tbody tr th {\n",
              "        vertical-align: top;\n",
              "    }\n",
              "\n",
              "    .dataframe thead th {\n",
              "        text-align: right;\n",
              "    }\n",
              "</style>\n",
              "<table border=\"1\" class=\"dataframe\">\n",
              "  <thead>\n",
              "    <tr style=\"text-align: right;\">\n",
              "      <th></th>\n",
              "      <th>ID</th>\n",
              "      <th>A1_Score</th>\n",
              "      <th>A2_Score</th>\n",
              "      <th>A3_Score</th>\n",
              "      <th>A4_Score</th>\n",
              "      <th>A5_Score</th>\n",
              "      <th>A6_Score</th>\n",
              "      <th>A7_Score</th>\n",
              "      <th>A8_Score</th>\n",
              "      <th>A9_Score</th>\n",
              "      <th>A10_Score</th>\n",
              "      <th>age</th>\n",
              "      <th>result</th>\n",
              "      <th>Class/ASD</th>\n",
              "    </tr>\n",
              "  </thead>\n",
              "  <tbody>\n",
              "    <tr>\n",
              "      <th>count</th>\n",
              "      <td>800.0000</td>\n",
              "      <td>800.000000</td>\n",
              "      <td>800.000000</td>\n",
              "      <td>800.000000</td>\n",
              "      <td>800.00000</td>\n",
              "      <td>800.000000</td>\n",
              "      <td>800.000000</td>\n",
              "      <td>800.000000</td>\n",
              "      <td>800.000000</td>\n",
              "      <td>800.000000</td>\n",
              "      <td>800.000000</td>\n",
              "      <td>800.000000</td>\n",
              "      <td>800.000000</td>\n",
              "      <td>800.000000</td>\n",
              "    </tr>\n",
              "    <tr>\n",
              "      <th>mean</th>\n",
              "      <td>400.5000</td>\n",
              "      <td>0.560000</td>\n",
              "      <td>0.530000</td>\n",
              "      <td>0.450000</td>\n",
              "      <td>0.41500</td>\n",
              "      <td>0.395000</td>\n",
              "      <td>0.303750</td>\n",
              "      <td>0.397500</td>\n",
              "      <td>0.508750</td>\n",
              "      <td>0.495000</td>\n",
              "      <td>0.617500</td>\n",
              "      <td>27.963750</td>\n",
              "      <td>8.537303</td>\n",
              "      <td>0.201250</td>\n",
              "    </tr>\n",
              "    <tr>\n",
              "      <th>std</th>\n",
              "      <td>231.0844</td>\n",
              "      <td>0.496697</td>\n",
              "      <td>0.499411</td>\n",
              "      <td>0.497805</td>\n",
              "      <td>0.49303</td>\n",
              "      <td>0.489157</td>\n",
              "      <td>0.460164</td>\n",
              "      <td>0.489687</td>\n",
              "      <td>0.500236</td>\n",
              "      <td>0.500288</td>\n",
              "      <td>0.486302</td>\n",
              "      <td>16.329827</td>\n",
              "      <td>4.807676</td>\n",
              "      <td>0.401185</td>\n",
              "    </tr>\n",
              "    <tr>\n",
              "      <th>min</th>\n",
              "      <td>1.0000</td>\n",
              "      <td>0.000000</td>\n",
              "      <td>0.000000</td>\n",
              "      <td>0.000000</td>\n",
              "      <td>0.00000</td>\n",
              "      <td>0.000000</td>\n",
              "      <td>0.000000</td>\n",
              "      <td>0.000000</td>\n",
              "      <td>0.000000</td>\n",
              "      <td>0.000000</td>\n",
              "      <td>0.000000</td>\n",
              "      <td>2.000000</td>\n",
              "      <td>-6.137748</td>\n",
              "      <td>0.000000</td>\n",
              "    </tr>\n",
              "    <tr>\n",
              "      <th>25%</th>\n",
              "      <td>200.7500</td>\n",
              "      <td>0.000000</td>\n",
              "      <td>0.000000</td>\n",
              "      <td>0.000000</td>\n",
              "      <td>0.00000</td>\n",
              "      <td>0.000000</td>\n",
              "      <td>0.000000</td>\n",
              "      <td>0.000000</td>\n",
              "      <td>0.000000</td>\n",
              "      <td>0.000000</td>\n",
              "      <td>0.000000</td>\n",
              "      <td>17.000000</td>\n",
              "      <td>5.306575</td>\n",
              "      <td>0.000000</td>\n",
              "    </tr>\n",
              "    <tr>\n",
              "      <th>50%</th>\n",
              "      <td>400.5000</td>\n",
              "      <td>1.000000</td>\n",
              "      <td>1.000000</td>\n",
              "      <td>0.000000</td>\n",
              "      <td>0.00000</td>\n",
              "      <td>0.000000</td>\n",
              "      <td>0.000000</td>\n",
              "      <td>0.000000</td>\n",
              "      <td>1.000000</td>\n",
              "      <td>0.000000</td>\n",
              "      <td>1.000000</td>\n",
              "      <td>24.000000</td>\n",
              "      <td>9.605299</td>\n",
              "      <td>0.000000</td>\n",
              "    </tr>\n",
              "    <tr>\n",
              "      <th>75%</th>\n",
              "      <td>600.2500</td>\n",
              "      <td>1.000000</td>\n",
              "      <td>1.000000</td>\n",
              "      <td>1.000000</td>\n",
              "      <td>1.00000</td>\n",
              "      <td>1.000000</td>\n",
              "      <td>1.000000</td>\n",
              "      <td>1.000000</td>\n",
              "      <td>1.000000</td>\n",
              "      <td>1.000000</td>\n",
              "      <td>1.000000</td>\n",
              "      <td>35.250000</td>\n",
              "      <td>12.514484</td>\n",
              "      <td>0.000000</td>\n",
              "    </tr>\n",
              "    <tr>\n",
              "      <th>max</th>\n",
              "      <td>800.0000</td>\n",
              "      <td>1.000000</td>\n",
              "      <td>1.000000</td>\n",
              "      <td>1.000000</td>\n",
              "      <td>1.00000</td>\n",
              "      <td>1.000000</td>\n",
              "      <td>1.000000</td>\n",
              "      <td>1.000000</td>\n",
              "      <td>1.000000</td>\n",
              "      <td>1.000000</td>\n",
              "      <td>1.000000</td>\n",
              "      <td>89.000000</td>\n",
              "      <td>15.853126</td>\n",
              "      <td>1.000000</td>\n",
              "    </tr>\n",
              "  </tbody>\n",
              "</table>\n",
              "</div>\n",
              "    <div class=\"colab-df-buttons\">\n",
              "\n",
              "  <div class=\"colab-df-container\">\n",
              "    <button class=\"colab-df-convert\" onclick=\"convertToInteractive('df-aff651d6-ef76-4738-b1d1-e339d94637b5')\"\n",
              "            title=\"Convert this dataframe to an interactive table.\"\n",
              "            style=\"display:none;\">\n",
              "\n",
              "  <svg xmlns=\"http://www.w3.org/2000/svg\" height=\"24px\" viewBox=\"0 -960 960 960\">\n",
              "    <path d=\"M120-120v-720h720v720H120Zm60-500h600v-160H180v160Zm220 220h160v-160H400v160Zm0 220h160v-160H400v160ZM180-400h160v-160H180v160Zm440 0h160v-160H620v160ZM180-180h160v-160H180v160Zm440 0h160v-160H620v160Z\"/>\n",
              "  </svg>\n",
              "    </button>\n",
              "\n",
              "  <style>\n",
              "    .colab-df-container {\n",
              "      display:flex;\n",
              "      gap: 12px;\n",
              "    }\n",
              "\n",
              "    .colab-df-convert {\n",
              "      background-color: #E8F0FE;\n",
              "      border: none;\n",
              "      border-radius: 50%;\n",
              "      cursor: pointer;\n",
              "      display: none;\n",
              "      fill: #1967D2;\n",
              "      height: 32px;\n",
              "      padding: 0 0 0 0;\n",
              "      width: 32px;\n",
              "    }\n",
              "\n",
              "    .colab-df-convert:hover {\n",
              "      background-color: #E2EBFA;\n",
              "      box-shadow: 0px 1px 2px rgba(60, 64, 67, 0.3), 0px 1px 3px 1px rgba(60, 64, 67, 0.15);\n",
              "      fill: #174EA6;\n",
              "    }\n",
              "\n",
              "    .colab-df-buttons div {\n",
              "      margin-bottom: 4px;\n",
              "    }\n",
              "\n",
              "    [theme=dark] .colab-df-convert {\n",
              "      background-color: #3B4455;\n",
              "      fill: #D2E3FC;\n",
              "    }\n",
              "\n",
              "    [theme=dark] .colab-df-convert:hover {\n",
              "      background-color: #434B5C;\n",
              "      box-shadow: 0px 1px 3px 1px rgba(0, 0, 0, 0.15);\n",
              "      filter: drop-shadow(0px 1px 2px rgba(0, 0, 0, 0.3));\n",
              "      fill: #FFFFFF;\n",
              "    }\n",
              "  </style>\n",
              "\n",
              "    <script>\n",
              "      const buttonEl =\n",
              "        document.querySelector('#df-aff651d6-ef76-4738-b1d1-e339d94637b5 button.colab-df-convert');\n",
              "      buttonEl.style.display =\n",
              "        google.colab.kernel.accessAllowed ? 'block' : 'none';\n",
              "\n",
              "      async function convertToInteractive(key) {\n",
              "        const element = document.querySelector('#df-aff651d6-ef76-4738-b1d1-e339d94637b5');\n",
              "        const dataTable =\n",
              "          await google.colab.kernel.invokeFunction('convertToInteractive',\n",
              "                                                    [key], {});\n",
              "        if (!dataTable) return;\n",
              "\n",
              "        const docLinkHtml = 'Like what you see? Visit the ' +\n",
              "          '<a target=\"_blank\" href=https://colab.research.google.com/notebooks/data_table.ipynb>data table notebook</a>'\n",
              "          + ' to learn more about interactive tables.';\n",
              "        element.innerHTML = '';\n",
              "        dataTable['output_type'] = 'display_data';\n",
              "        await google.colab.output.renderOutput(dataTable, element);\n",
              "        const docLink = document.createElement('div');\n",
              "        docLink.innerHTML = docLinkHtml;\n",
              "        element.appendChild(docLink);\n",
              "      }\n",
              "    </script>\n",
              "  </div>\n",
              "\n",
              "\n",
              "<div id=\"df-6221665a-6254-4771-8a96-9278203be226\">\n",
              "  <button class=\"colab-df-quickchart\" onclick=\"quickchart('df-6221665a-6254-4771-8a96-9278203be226')\"\n",
              "            title=\"Suggest charts\"\n",
              "            style=\"display:none;\">\n",
              "\n",
              "<svg xmlns=\"http://www.w3.org/2000/svg\" height=\"24px\"viewBox=\"0 0 24 24\"\n",
              "     width=\"24px\">\n",
              "    <g>\n",
              "        <path d=\"M19 3H5c-1.1 0-2 .9-2 2v14c0 1.1.9 2 2 2h14c1.1 0 2-.9 2-2V5c0-1.1-.9-2-2-2zM9 17H7v-7h2v7zm4 0h-2V7h2v10zm4 0h-2v-4h2v4z\"/>\n",
              "    </g>\n",
              "</svg>\n",
              "  </button>\n",
              "\n",
              "<style>\n",
              "  .colab-df-quickchart {\n",
              "      --bg-color: #E8F0FE;\n",
              "      --fill-color: #1967D2;\n",
              "      --hover-bg-color: #E2EBFA;\n",
              "      --hover-fill-color: #174EA6;\n",
              "      --disabled-fill-color: #AAA;\n",
              "      --disabled-bg-color: #DDD;\n",
              "  }\n",
              "\n",
              "  [theme=dark] .colab-df-quickchart {\n",
              "      --bg-color: #3B4455;\n",
              "      --fill-color: #D2E3FC;\n",
              "      --hover-bg-color: #434B5C;\n",
              "      --hover-fill-color: #FFFFFF;\n",
              "      --disabled-bg-color: #3B4455;\n",
              "      --disabled-fill-color: #666;\n",
              "  }\n",
              "\n",
              "  .colab-df-quickchart {\n",
              "    background-color: var(--bg-color);\n",
              "    border: none;\n",
              "    border-radius: 50%;\n",
              "    cursor: pointer;\n",
              "    display: none;\n",
              "    fill: var(--fill-color);\n",
              "    height: 32px;\n",
              "    padding: 0;\n",
              "    width: 32px;\n",
              "  }\n",
              "\n",
              "  .colab-df-quickchart:hover {\n",
              "    background-color: var(--hover-bg-color);\n",
              "    box-shadow: 0 1px 2px rgba(60, 64, 67, 0.3), 0 1px 3px 1px rgba(60, 64, 67, 0.15);\n",
              "    fill: var(--button-hover-fill-color);\n",
              "  }\n",
              "\n",
              "  .colab-df-quickchart-complete:disabled,\n",
              "  .colab-df-quickchart-complete:disabled:hover {\n",
              "    background-color: var(--disabled-bg-color);\n",
              "    fill: var(--disabled-fill-color);\n",
              "    box-shadow: none;\n",
              "  }\n",
              "\n",
              "  .colab-df-spinner {\n",
              "    border: 2px solid var(--fill-color);\n",
              "    border-color: transparent;\n",
              "    border-bottom-color: var(--fill-color);\n",
              "    animation:\n",
              "      spin 1s steps(1) infinite;\n",
              "  }\n",
              "\n",
              "  @keyframes spin {\n",
              "    0% {\n",
              "      border-color: transparent;\n",
              "      border-bottom-color: var(--fill-color);\n",
              "      border-left-color: var(--fill-color);\n",
              "    }\n",
              "    20% {\n",
              "      border-color: transparent;\n",
              "      border-left-color: var(--fill-color);\n",
              "      border-top-color: var(--fill-color);\n",
              "    }\n",
              "    30% {\n",
              "      border-color: transparent;\n",
              "      border-left-color: var(--fill-color);\n",
              "      border-top-color: var(--fill-color);\n",
              "      border-right-color: var(--fill-color);\n",
              "    }\n",
              "    40% {\n",
              "      border-color: transparent;\n",
              "      border-right-color: var(--fill-color);\n",
              "      border-top-color: var(--fill-color);\n",
              "    }\n",
              "    60% {\n",
              "      border-color: transparent;\n",
              "      border-right-color: var(--fill-color);\n",
              "    }\n",
              "    80% {\n",
              "      border-color: transparent;\n",
              "      border-right-color: var(--fill-color);\n",
              "      border-bottom-color: var(--fill-color);\n",
              "    }\n",
              "    90% {\n",
              "      border-color: transparent;\n",
              "      border-bottom-color: var(--fill-color);\n",
              "    }\n",
              "  }\n",
              "</style>\n",
              "\n",
              "  <script>\n",
              "    async function quickchart(key) {\n",
              "      const quickchartButtonEl =\n",
              "        document.querySelector('#' + key + ' button');\n",
              "      quickchartButtonEl.disabled = true;  // To prevent multiple clicks.\n",
              "      quickchartButtonEl.classList.add('colab-df-spinner');\n",
              "      try {\n",
              "        const charts = await google.colab.kernel.invokeFunction(\n",
              "            'suggestCharts', [key], {});\n",
              "      } catch (error) {\n",
              "        console.error('Error during call to suggestCharts:', error);\n",
              "      }\n",
              "      quickchartButtonEl.classList.remove('colab-df-spinner');\n",
              "      quickchartButtonEl.classList.add('colab-df-quickchart-complete');\n",
              "    }\n",
              "    (() => {\n",
              "      let quickchartButtonEl =\n",
              "        document.querySelector('#df-6221665a-6254-4771-8a96-9278203be226 button');\n",
              "      quickchartButtonEl.style.display =\n",
              "        google.colab.kernel.accessAllowed ? 'block' : 'none';\n",
              "    })();\n",
              "  </script>\n",
              "</div>\n",
              "\n",
              "    </div>\n",
              "  </div>\n"
            ],
            "application/vnd.google.colaboratory.intrinsic+json": {
              "type": "dataframe",
              "summary": "{\n  \"name\": \"df\",\n  \"rows\": 8,\n  \"fields\": [\n    {\n      \"column\": \"ID\",\n      \"properties\": {\n        \"dtype\": \"number\",\n        \"std\": 288.0191378976687,\n        \"min\": 1.0,\n        \"max\": 800.0,\n        \"num_unique_values\": 6,\n        \"samples\": [\n          800.0,\n          400.5,\n          600.25\n        ],\n        \"semantic_type\": \"\",\n        \"description\": \"\"\n      }\n    },\n    {\n      \"column\": \"A1_Score\",\n      \"properties\": {\n        \"dtype\": \"number\",\n        \"std\": 282.63812393571743,\n        \"min\": 0.0,\n        \"max\": 800.0,\n        \"num_unique_values\": 5,\n        \"samples\": [\n          0.56,\n          1.0,\n          0.496697478835814\n        ],\n        \"semantic_type\": \"\",\n        \"description\": \"\"\n      }\n    },\n    {\n      \"column\": \"A2_Score\",\n      \"properties\": {\n        \"dtype\": \"number\",\n        \"std\": 282.63950247332025,\n        \"min\": 0.0,\n        \"max\": 800.0,\n        \"num_unique_values\": 5,\n        \"samples\": [\n          0.53,\n          1.0,\n          0.49941141827743935\n        ],\n        \"semantic_type\": \"\",\n        \"description\": \"\"\n      }\n    },\n    {\n      \"column\": \"A3_Score\",\n      \"properties\": {\n        \"dtype\": \"number\",\n        \"std\": 282.6941313066948,\n        \"min\": 0.0,\n        \"max\": 800.0,\n        \"num_unique_values\": 5,\n        \"samples\": [\n          0.45,\n          1.0,\n          0.4978049439316085\n        ],\n        \"semantic_type\": \"\",\n        \"description\": \"\"\n      }\n    },\n    {\n      \"column\": \"A4_Score\",\n      \"properties\": {\n        \"dtype\": \"number\",\n        \"std\": 282.6961397911071,\n        \"min\": 0.0,\n        \"max\": 800.0,\n        \"num_unique_values\": 5,\n        \"samples\": [\n          0.415,\n          1.0,\n          0.4930302714445649\n        ],\n        \"semantic_type\": \"\",\n        \"description\": \"\"\n      }\n    },\n    {\n      \"column\": \"A5_Score\",\n      \"properties\": {\n        \"dtype\": \"number\",\n        \"std\": 282.6973455335407,\n        \"min\": 0.0,\n        \"max\": 800.0,\n        \"num_unique_values\": 5,\n        \"samples\": [\n          0.395,\n          1.0,\n          0.4891565113701031\n        ],\n        \"semantic_type\": \"\",\n        \"description\": \"\"\n      }\n    },\n    {\n      \"column\": \"A6_Score\",\n      \"properties\": {\n        \"dtype\": \"number\",\n        \"std\": 282.70342015552376,\n        \"min\": 0.0,\n        \"max\": 800.0,\n        \"num_unique_values\": 5,\n        \"samples\": [\n          0.30375,\n          1.0,\n          0.46016369455035194\n        ],\n        \"semantic_type\": \"\",\n        \"description\": \"\"\n      }\n    },\n    {\n      \"column\": \"A7_Score\",\n      \"properties\": {\n        \"dtype\": \"number\",\n        \"std\": 282.6971924645075,\n        \"min\": 0.0,\n        \"max\": 800.0,\n        \"num_unique_values\": 5,\n        \"samples\": [\n          0.3975,\n          1.0,\n          0.48968713671571173\n        ],\n        \"semantic_type\": \"\",\n        \"description\": \"\"\n      }\n    },\n    {\n      \"column\": \"A8_Score\",\n      \"properties\": {\n        \"dtype\": \"number\",\n        \"std\": 282.64053466022426,\n        \"min\": 0.0,\n        \"max\": 800.0,\n        \"num_unique_values\": 5,\n        \"samples\": [\n          0.50875,\n          1.0,\n          0.5002361770114091\n        ],\n        \"semantic_type\": \"\",\n        \"description\": \"\"\n      }\n    },\n    {\n      \"column\": \"A9_Score\",\n      \"properties\": {\n        \"dtype\": \"number\",\n        \"std\": 282.69173424897446,\n        \"min\": 0.0,\n        \"max\": 800.0,\n        \"num_unique_values\": 5,\n        \"samples\": [\n          0.495,\n          1.0,\n          0.5002877770091719\n        ],\n        \"semantic_type\": \"\",\n        \"description\": \"\"\n      }\n    },\n    {\n      \"column\": \"A10_Score\",\n      \"properties\": {\n        \"dtype\": \"number\",\n        \"std\": 282.6357454653514,\n        \"min\": 0.0,\n        \"max\": 800.0,\n        \"num_unique_values\": 5,\n        \"samples\": [\n          0.6175,\n          1.0,\n          0.4863017187941321\n        ],\n        \"semantic_type\": \"\",\n        \"description\": \"\"\n      }\n    },\n    {\n      \"column\": \"age\",\n      \"properties\": {\n        \"dtype\": \"number\",\n        \"std\": 273.3858199741017,\n        \"min\": 2.0,\n        \"max\": 800.0,\n        \"num_unique_values\": 8,\n        \"samples\": [\n          27.96375,\n          24.0,\n          800.0\n        ],\n        \"semantic_type\": \"\",\n        \"description\": \"\"\n      }\n    },\n    {\n      \"column\": \"result\",\n      \"properties\": {\n        \"dtype\": \"number\",\n        \"std\": 280.3686527518333,\n        \"min\": -6.137748048,\n        \"max\": 800.0,\n        \"num_unique_values\": 8,\n        \"samples\": [\n          8.537303106501248,\n          9.605299308,\n          800.0\n        ],\n        \"semantic_type\": \"\",\n        \"description\": \"\"\n      }\n    },\n    {\n      \"column\": \"Class/ASD\",\n      \"properties\": {\n        \"dtype\": \"number\",\n        \"std\": 282.76198810544895,\n        \"min\": 0.0,\n        \"max\": 800.0,\n        \"num_unique_values\": 5,\n        \"samples\": [\n          0.20125,\n          1.0,\n          0.4011852745685732\n        ],\n        \"semantic_type\": \"\",\n        \"description\": \"\"\n      }\n    }\n  ]\n}"
            }
          },
          "metadata": {},
          "execution_count": 135
        }
      ],
      "source": [
        "df.describe()"
      ]
    },
    {
      "cell_type": "markdown",
      "metadata": {
        "id": "Kse4EYdesK0z"
      },
      "source": [
        "**Identify Missing Values**"
      ]
    },
    {
      "cell_type": "code",
      "execution_count": null,
      "metadata": {
        "id": "iHiG8zp4sJze",
        "colab": {
          "base_uri": "https://localhost:8080/"
        },
        "outputId": "459295a5-db9d-469b-e49d-ae762a2e4174"
      },
      "outputs": [
        {
          "output_type": "stream",
          "name": "stdout",
          "text": [
            "Missing Values:\n",
            " ID                 0\n",
            "A1_Score           0\n",
            "A2_Score           0\n",
            "A3_Score           0\n",
            "A4_Score           0\n",
            "A5_Score           0\n",
            "A6_Score           0\n",
            "A7_Score           0\n",
            "A8_Score           0\n",
            "A9_Score           0\n",
            "A10_Score          0\n",
            "age                0\n",
            "gender             0\n",
            "ethnicity          0\n",
            "jaundice           0\n",
            "austim             0\n",
            "contry_of_res      0\n",
            "used_app_before    0\n",
            "result             0\n",
            "age_desc           0\n",
            "relation           0\n",
            "Class/ASD          0\n",
            "dtype: int64\n"
          ]
        }
      ],
      "source": [
        "# Count missing values in each column:\n",
        "print(\"Missing Values:\\n\", df.isnull().sum())"
      ]
    },
    {
      "cell_type": "markdown",
      "metadata": {
        "id": "gC6plhC0sRns"
      },
      "source": [
        "**Identify Duplicates**\n",
        "\n",
        "> Add blockquote\n",
        "\n"
      ]
    },
    {
      "cell_type": "code",
      "execution_count": null,
      "metadata": {
        "id": "VITQy5kCsX03",
        "colab": {
          "base_uri": "https://localhost:8080/"
        },
        "outputId": "c640bbc0-ba69-43f5-8a36-5c78a9dec1ec"
      },
      "outputs": [
        {
          "output_type": "stream",
          "name": "stdout",
          "text": [
            "Duplicates: 0\n"
          ]
        }
      ],
      "source": [
        "#Check for duplicate entries:\n",
        "print(\"Duplicates:\", df.duplicated().sum())"
      ]
    },
    {
      "cell_type": "markdown",
      "metadata": {
        "id": "SdWYBd6sdi2X"
      },
      "source": [
        "**Identify Unique Values**"
      ]
    },
    {
      "cell_type": "code",
      "execution_count": null,
      "metadata": {
        "id": "OPX6imcxvdCM",
        "colab": {
          "base_uri": "https://localhost:8080/"
        },
        "outputId": "0e7e5680-81a8-4bbc-ad94-7d8ff5fc3a05"
      },
      "outputs": [
        {
          "output_type": "stream",
          "name": "stdout",
          "text": [
            "ID                 800\n",
            "A1_Score             2\n",
            "A2_Score             2\n",
            "A3_Score             2\n",
            "A4_Score             2\n",
            "A5_Score             2\n",
            "A6_Score             2\n",
            "A7_Score             2\n",
            "A8_Score             2\n",
            "A9_Score             2\n",
            "A10_Score            2\n",
            "age                 79\n",
            "gender               2\n",
            "ethnicity           12\n",
            "jaundice             2\n",
            "austim               2\n",
            "contry_of_res       56\n",
            "used_app_before      2\n",
            "result             800\n",
            "age_desc             1\n",
            "relation             6\n",
            "Class/ASD            2\n",
            "dtype: int64\n"
          ]
        }
      ],
      "source": [
        "print(df.nunique())"
      ]
    },
    {
      "cell_type": "code",
      "execution_count": null,
      "metadata": {
        "id": "yoXtvLeedy0V",
        "colab": {
          "base_uri": "https://localhost:8080/"
        },
        "outputId": "4d86c41a-a0e2-4f7c-dbab-ca005acc2eef"
      },
      "outputs": [
        {
          "output_type": "stream",
          "name": "stdout",
          "text": [
            "\n",
            "Column               Unique Values\n",
            "==================================================\n",
            "A1_Score            1, 0                                                        \n",
            "--------------------------------------------------\n",
            "A2_Score            0, 1                                                        \n",
            "--------------------------------------------------\n",
            "A3_Score            1, 0                                                        \n",
            "--------------------------------------------------\n",
            "A4_Score            0, 1                                                        \n",
            "--------------------------------------------------\n",
            "A5_Score            1, 0                                                        \n",
            "--------------------------------------------------\n",
            "A6_Score            0, 1                                                        \n",
            "--------------------------------------------------\n",
            "A7_Score            1, 0                                                        \n",
            "--------------------------------------------------\n",
            "A8_Score            0, 1                                                        \n",
            "--------------------------------------------------\n",
            "A9_Score            1, 0                                                        \n",
            "--------------------------------------------------\n",
            "A10_Score           1, 0                                                        \n",
            "--------------------------------------------------\n",
            "gender              f, m                                                        \n",
            "--------------------------------------------------\n",
            "ethnicity           ?, White-European, Middle Eastern , Pasifika, Black, Others, Hispanic, Asian, Turkish, South Asian, Latino, others\n",
            "--------------------------------------------------\n",
            "jaundice            no, yes                                                     \n",
            "--------------------------------------------------\n",
            "austim              no, yes                                                     \n",
            "--------------------------------------------------\n",
            "contry_of_res       Austria, India, United States, South Africa, Jordan, United Kingdom, Brazil, New Zealand, Canada, Kazakhstan, United Arab Emirates, Australia, Ukraine, Iraq, France, Malaysia, Viet Nam, Egypt, Netherlands, Afghanistan, Oman, Italy, AmericanSamoa, Bahamas, Saudi Arabia, Ireland, Aruba, Sri Lanka, Russia, Bolivia, Azerbaijan, Armenia, Serbia, Ethiopia, Sweden, Iceland, Hong Kong, Angola, China, Germany, Spain, Tonga, Pakistan, Iran, Argentina, Japan, Mexico, Nicaragua, Sierra Leone, Czech Republic, Niger, Romania, Cyprus, Belgium, Burundi, Bangladesh\n",
            "--------------------------------------------------\n",
            "used_app_before     no, yes                                                     \n",
            "--------------------------------------------------\n",
            "age_desc            18 and more                                                 \n",
            "--------------------------------------------------\n",
            "relation            Self, Relative, Parent, ?, Others, Health care professional \n",
            "--------------------------------------------------\n",
            "Class/ASD           0, 1                                                        \n",
            "--------------------------------------------------\n"
          ]
        }
      ],
      "source": [
        "# List of numerical features to exclude\n",
        "numerical_features = [\"ID\", \"age\", \"result\"]\n",
        "\n",
        "# Header for the table\n",
        "print(\"\\n{:<20} {}\".format(\"Column\", \"Unique Values\"))\n",
        "print(\"=\" * 50)\n",
        "\n",
        "# Loop through DataFrame columns\n",
        "for col in df.columns:\n",
        "    if col not in numerical_features:\n",
        "        # Get all unique values\n",
        "        unique_values = df[col].unique()\n",
        "        unique_values_str = \", \".join(map(str, unique_values))\n",
        "\n",
        "        # Wrap the text if it's too long\n",
        "        print(f\"{col:<20}\", end=\"\")\n",
        "        print(f\"{unique_values_str:<60}\")\n",
        "        print(\"-\" * 50)"
      ]
    },
    {
      "cell_type": "markdown",
      "source": [
        "**insights**\n",
        "\n",
        "- identified that the columns ethnicity and relation contain the value \"?\", indicating potential missing or ambiguous data.\n",
        "- age_desc has only one unique val."
      ],
      "metadata": {
        "id": "wqBvEDOMrTI5"
      }
    },
    {
      "cell_type": "code",
      "execution_count": null,
      "metadata": {
        "id": "IhWKhna8jcKS",
        "colab": {
          "base_uri": "https://localhost:8080/"
        },
        "outputId": "b30e47a1-ab48-4efd-a65f-91ab26a98665"
      },
      "outputs": [
        {
          "output_type": "stream",
          "name": "stdout",
          "text": [
            "ethnicity\n",
            "White-European     257\n",
            "?                  203\n",
            "Middle Eastern      97\n",
            "Asian               67\n",
            "Black               47\n",
            "South Asian         34\n",
            "Pasifika            32\n",
            "Others              29\n",
            "Latino              17\n",
            "Hispanic             9\n",
            "Turkish              5\n",
            "others               3\n",
            "Name: count, dtype: int64\n",
            "\n",
            "\n",
            "relation\n",
            "Self                        709\n",
            "?                            40\n",
            "Parent                       29\n",
            "Relative                     18\n",
            "Others                        2\n",
            "Health care professional      2\n",
            "Name: count, dtype: int64\n"
          ]
        }
      ],
      "source": [
        "# Display the unique values and their counts\n",
        "unique_values_counts = df['ethnicity'].value_counts()\n",
        "print(unique_values_counts)\n",
        "print(\"\\n\")\n",
        "\n",
        "# Display the unique values and their counts\n",
        "unique_values_counts = df['relation'].value_counts()\n",
        "print(unique_values_counts)"
      ]
    },
    {
      "cell_type": "markdown",
      "metadata": {
        "id": "LDWjD54Ue4uZ"
      },
      "source": [
        "**Insights**\n",
        "\n",
        "- **Since age_desc is constant (18 and more), it doesn't provide any additional information.**\n",
        "  - Action: Drop the age_desc column as it's irrelevant for analysis.\n",
        "\n",
        "- **Missing or Ambiguous Values** : Variables like ethnicity and relation contain unclear values (?). These could affect downstream analysis if not handled.\n",
        "  - For ethnicity: Replace ? with \"Unknown\"\n",
        "    - Reasoning: The ? in ethnicity likely means the respondent did not disclose their ethnicity. By replacing it with \"Unknown,\" we keep it distinct from the existing \"others\" category, which represents rare or undefined ethnicities. This approach retains the meaning of the data without mixing unrelated categories.\n",
        "    - For ethnicity, the ? values represent about 25% of the total, which is quite significant. In this case, replacing with the mode might not be the best option because it could introduce bias, especially if the unknown category is substantial.A better approach might be to replace ? with Unknown.\n",
        "\n",
        "  - For relation: Merge ? with \"others\"\n",
        "    - For relation, the ? values make up only 5% of the total, which is relatively small. Replacing the ? with the mode (Self) would be a reasonable approach in this case.\n",
        "\n"
      ]
    },
    {
      "cell_type": "code",
      "execution_count": null,
      "metadata": {
        "id": "9dzlvkQwepG2"
      },
      "outputs": [],
      "source": [
        " # dropping ID & age_desc column\n",
        "df = df.drop(columns=[\"ID\", \"age_desc\"])"
      ]
    },
    {
      "cell_type": "code",
      "execution_count": null,
      "metadata": {
        "id": "eeT6r0RrlOGm",
        "colab": {
          "base_uri": "https://localhost:8080/"
        },
        "outputId": "ea08d37c-8eb0-4f29-8b34-dce043ff5756"
      },
      "outputs": [
        {
          "output_type": "execute_result",
          "data": {
            "text/plain": [
              "(800, 20)"
            ]
          },
          "metadata": {},
          "execution_count": 142
        }
      ],
      "source": [
        "df.shape"
      ]
    },
    {
      "cell_type": "code",
      "execution_count": null,
      "metadata": {
        "id": "d3NOdsxFlowN",
        "colab": {
          "base_uri": "https://localhost:8080/"
        },
        "outputId": "6713d6ca-3896-4dd8-82ef-76bd959f61f0"
      },
      "outputs": [
        {
          "output_type": "execute_result",
          "data": {
            "text/plain": [
              "Index(['A1_Score', 'A2_Score', 'A3_Score', 'A4_Score', 'A5_Score', 'A6_Score',\n",
              "       'A7_Score', 'A8_Score', 'A9_Score', 'A10_Score', 'age', 'gender',\n",
              "       'ethnicity', 'jaundice', 'austim', 'contry_of_res', 'used_app_before',\n",
              "       'result', 'relation', 'Class/ASD'],\n",
              "      dtype='object')"
            ]
          },
          "metadata": {},
          "execution_count": 143
        }
      ],
      "source": [
        "df.columns"
      ]
    },
    {
      "cell_type": "code",
      "execution_count": null,
      "metadata": {
        "id": "gQc8l6hvsmKj",
        "colab": {
          "base_uri": "https://localhost:8080/",
          "height": 482
        },
        "outputId": "b0eb82b6-c593-4d8d-c9f1-60e2331f9501"
      },
      "outputs": [
        {
          "output_type": "display_data",
          "data": {
            "text/plain": [
              "<Figure size 800x400 with 1 Axes>"
            ],
            "image/png": "[encoded data removed]"
          },
          "metadata": {}
        }
      ],
      "source": [
        "# Replace \"?\" with NaN using df.replace, and treat it as missing without modifying the original DataFrame\n",
        "fig, ax = plt.subplots(figsize=(8, 4))\n",
        "msno.matrix(df.replace(\"?\", np.nan), ax=ax, sparkline=False)\n",
        "plt.title(\"Missing Values Matrix (Treating '?' as Missing)\", fontsize=12)\n",
        "ax.tick_params(axis='x', labelsize=10)\n",
        "ax.tick_params(axis='y', labelsize=10)\n",
        "plt.show()\n"
      ]
    },
    {
      "cell_type": "code",
      "execution_count": null,
      "metadata": {
        "id": "MDT7Ox-EizCD",
        "colab": {
          "base_uri": "https://localhost:8080/"
        },
        "outputId": "053d14f7-b444-4972-9951-57e0b1439e00"
      },
      "outputs": [
        {
          "output_type": "stream",
          "name": "stdout",
          "text": [
            "ethnicity\n",
            "White-European     257\n",
            "Unknown            203\n",
            "Middle Eastern      97\n",
            "Asian               67\n",
            "Black               47\n",
            "South Asian         34\n",
            "Pasifika            32\n",
            "Others              29\n",
            "Latino              17\n",
            "Hispanic             9\n",
            "Turkish              5\n",
            "others               3\n",
            "Name: count, dtype: int64\n"
          ]
        }
      ],
      "source": [
        "# Replace '?' in 'ethnicity' column with 'Unknown'  ( Since '?' represents about 25% of the total data )\n",
        "df['ethnicity'] = df['ethnicity'].replace('?', 'Unknown')\n",
        "\n",
        "# Display the updated 'ethnicity' column to check the changes\n",
        "print(df['ethnicity'].value_counts())"
      ]
    },
    {
      "cell_type": "code",
      "execution_count": null,
      "metadata": {
        "id": "vVnyjadKwaGK",
        "colab": {
          "base_uri": "https://localhost:8080/"
        },
        "outputId": "bd6882fb-84b7-4be1-873b-23ce063f3a31"
      },
      "outputs": [
        {
          "output_type": "stream",
          "name": "stdout",
          "text": [
            "relation\n",
            "Self                        749\n",
            "Parent                       29\n",
            "Relative                     18\n",
            "Others                        2\n",
            "Health care professional      2\n",
            "Name: count, dtype: int64\n"
          ]
        }
      ],
      "source": [
        "# Replace '?' in 'relation' column with the mode ('Self')  (Since '?' represents only 5% of the total data in 'relation')\n",
        "most_frequent_relation = df['relation'].mode()[0]\n",
        "df['relation'] = df['relation'].replace('?', most_frequent_relation)\n",
        "\n",
        "# Display the updated 'relation' column to check the changes\n",
        "print(df['relation'].value_counts())"
      ]
    },
    {
      "cell_type": "code",
      "execution_count": null,
      "metadata": {
        "id": "RFmBG3EPwvSe"
      },
      "outputs": [],
      "source": [
        "# define the mapping dictionary for country names\n",
        "mapping = {\n",
        "    \"AmericanSamoa\": \"United States\",\n",
        "    \"Hong Kong\": \"China\"\n",
        "}\n",
        "\n",
        "# repalce value in the country column\n",
        "df[\"contry_of_res\"] = df[\"contry_of_res\"].replace(mapping)"
      ]
    },
    {
      "cell_type": "code",
      "execution_count": null,
      "metadata": {
        "id": "gS0vNG7txEn7",
        "colab": {
          "base_uri": "https://localhost:8080/"
        },
        "outputId": "282d6f78-2c95-4c83-bde4-ea915a80462f"
      },
      "outputs": [
        {
          "output_type": "execute_result",
          "data": {
            "text/plain": [
              "array(['Austria', 'India', 'United States', 'South Africa', 'Jordan',\n",
              "       'United Kingdom', 'Brazil', 'New Zealand', 'Canada', 'Kazakhstan',\n",
              "       'United Arab Emirates', 'Australia', 'Ukraine', 'Iraq', 'France',\n",
              "       'Malaysia', 'Viet Nam', 'Egypt', 'Netherlands', 'Afghanistan',\n",
              "       'Oman', 'Italy', 'Bahamas', 'Saudi Arabia', 'Ireland', 'Aruba',\n",
              "       'Sri Lanka', 'Russia', 'Bolivia', 'Azerbaijan', 'Armenia',\n",
              "       'Serbia', 'Ethiopia', 'Sweden', 'Iceland', 'China', 'Angola',\n",
              "       'Germany', 'Spain', 'Tonga', 'Pakistan', 'Iran', 'Argentina',\n",
              "       'Japan', 'Mexico', 'Nicaragua', 'Sierra Leone', 'Czech Republic',\n",
              "       'Niger', 'Romania', 'Cyprus', 'Belgium', 'Burundi', 'Bangladesh'],\n",
              "      dtype=object)"
            ]
          },
          "metadata": {},
          "execution_count": 148
        }
      ],
      "source": [
        "df[\"contry_of_res\"].unique()"
      ]
    },
    {
      "cell_type": "markdown",
      "metadata": {
        "id": "FKsnKeFq27Jc"
      },
      "source": [
        "**Taget class distribution**\n"
      ]
    },
    {
      "cell_type": "code",
      "execution_count": null,
      "metadata": {
        "id": "_KV8O_O1xHR7",
        "colab": {
          "base_uri": "https://localhost:8080/"
        },
        "outputId": "3b344c9f-f06c-4abc-a345-1a454e72cd06"
      },
      "outputs": [
        {
          "output_type": "stream",
          "name": "stdout",
          "text": [
            "Class/ASD\n",
            "0    639\n",
            "1    161\n",
            "Name: count, dtype: int64\n"
          ]
        }
      ],
      "source": [
        "# taget class distribution\n",
        "print(df[\"Class/ASD\"].value_counts())"
      ]
    },
    {
      "cell_type": "code",
      "execution_count": null,
      "metadata": {
        "id": "URoXIvLrxW7E",
        "colab": {
          "base_uri": "https://localhost:8080/",
          "height": 480
        },
        "outputId": "55b07743-4d4f-4c09-dfe9-5d981f10b3f9"
      },
      "outputs": [
        {
          "output_type": "display_data",
          "data": {
            "text/plain": [
              "<Figure size 640x480 with 1 Axes>"
            ],
            "image/png": "[encoded data removed]"
          },
          "metadata": {}
        }
      ],
      "source": [
        "# Plot the class distribution\n",
        "sns.countplot(x='Class/ASD', data=df)\n",
        "plt.title('Class Distribution')\n",
        "plt.xlabel('Class/ASD')\n",
        "plt.ylabel('Count')\n",
        "plt.show()\n"
      ]
    },
    {
      "cell_type": "markdown",
      "metadata": {
        "id": "hj729QqD6Ftx"
      },
      "source": [
        "**Insights:**\n",
        "- identified class imbalance in the target column"
      ]
    },
    {
      "cell_type": "markdown",
      "metadata": {
        "id": "BKkIb5T16K3t"
      },
      "source": [
        "## **Section4 : EDA**"
      ]
    },
    {
      "cell_type": "code",
      "execution_count": null,
      "metadata": {
        "id": "dhYVFlOC3zrf"
      },
      "outputs": [],
      "source": [
        "categorical_cols = ['A1_Score', 'A2_Score', 'A3_Score', 'A4_Score', 'A5_Score', 'A6_Score',\n",
        "                    'A7_Score', 'A8_Score', 'A9_Score', 'A10_Score', 'gender', 'jaundice', 'austim',\n",
        "                    'used_app_before', 'relation']\n",
        "num_cols=['age','result']"
      ]
    },
    {
      "cell_type": "code",
      "execution_count": null,
      "metadata": {
        "id": "hkThzQN06YHe",
        "colab": {
          "base_uri": "https://localhost:8080/",
          "height": 300
        },
        "outputId": "289d793a-bbc1-4f31-fc31-0a6fe04305da"
      },
      "outputs": [
        {
          "output_type": "execute_result",
          "data": {
            "text/plain": [
              "              age      result\n",
              "count  800.000000  800.000000\n",
              "mean    27.963750    8.537303\n",
              "std     16.329827    4.807676\n",
              "min      2.000000   -6.137748\n",
              "25%     17.000000    5.306575\n",
              "50%     24.000000    9.605299\n",
              "75%     35.250000   12.514484\n",
              "max     89.000000   15.853126"
            ],
            "text/html": [
              "\n",
              "  <div id=\"df-cb72164c-e164-457b-b63c-68427686ebe5\" class=\"colab-df-container\">\n",
              "    <div>\n",
              "<style scoped>\n",
              "    .dataframe tbody tr th:only-of-type {\n",
              "        vertical-align: middle;\n",
              "    }\n",
              "\n",
              "    .dataframe tbody tr th {\n",
              "        vertical-align: top;\n",
              "    }\n",
              "\n",
              "    .dataframe thead th {\n",
              "        text-align: right;\n",
              "    }\n",
              "</style>\n",
              "<table border=\"1\" class=\"dataframe\">\n",
              "  <thead>\n",
              "    <tr style=\"text-align: right;\">\n",
              "      <th></th>\n",
              "      <th>age</th>\n",
              "      <th>result</th>\n",
              "    </tr>\n",
              "  </thead>\n",
              "  <tbody>\n",
              "    <tr>\n",
              "      <th>count</th>\n",
              "      <td>800.000000</td>\n",
              "      <td>800.000000</td>\n",
              "    </tr>\n",
              "    <tr>\n",
              "      <th>mean</th>\n",
              "      <td>27.963750</td>\n",
              "      <td>8.537303</td>\n",
              "    </tr>\n",
              "    <tr>\n",
              "      <th>std</th>\n",
              "      <td>16.329827</td>\n",
              "      <td>4.807676</td>\n",
              "    </tr>\n",
              "    <tr>\n",
              "      <th>min</th>\n",
              "      <td>2.000000</td>\n",
              "      <td>-6.137748</td>\n",
              "    </tr>\n",
              "    <tr>\n",
              "      <th>25%</th>\n",
              "      <td>17.000000</td>\n",
              "      <td>5.306575</td>\n",
              "    </tr>\n",
              "    <tr>\n",
              "      <th>50%</th>\n",
              "      <td>24.000000</td>\n",
              "      <td>9.605299</td>\n",
              "    </tr>\n",
              "    <tr>\n",
              "      <th>75%</th>\n",
              "      <td>35.250000</td>\n",
              "      <td>12.514484</td>\n",
              "    </tr>\n",
              "    <tr>\n",
              "      <th>max</th>\n",
              "      <td>89.000000</td>\n",
              "      <td>15.853126</td>\n",
              "    </tr>\n",
              "  </tbody>\n",
              "</table>\n",
              "</div>\n",
              "    <div class=\"colab-df-buttons\">\n",
              "\n",
              "  <div class=\"colab-df-container\">\n",
              "    <button class=\"colab-df-convert\" onclick=\"convertToInteractive('df-cb72164c-e164-457b-b63c-68427686ebe5')\"\n",
              "            title=\"Convert this dataframe to an interactive table.\"\n",
              "            style=\"display:none;\">\n",
              "\n",
              "  <svg xmlns=\"http://www.w3.org/2000/svg\" height=\"24px\" viewBox=\"0 -960 960 960\">\n",
              "    <path d=\"M120-120v-720h720v720H120Zm60-500h600v-160H180v160Zm220 220h160v-160H400v160Zm0 220h160v-160H400v160ZM180-400h160v-160H180v160Zm440 0h160v-160H620v160ZM180-180h160v-160H180v160Zm440 0h160v-160H620v160Z\"/>\n",
              "  </svg>\n",
              "    </button>\n",
              "\n",
              "  <style>\n",
              "    .colab-df-container {\n",
              "      display:flex;\n",
              "      gap: 12px;\n",
              "    }\n",
              "\n",
              "    .colab-df-convert {\n",
              "      background-color: #E8F0FE;\n",
              "      border: none;\n",
              "      border-radius: 50%;\n",
              "      cursor: pointer;\n",
              "      display: none;\n",
              "      fill: #1967D2;\n",
              "      height: 32px;\n",
              "      padding: 0 0 0 0;\n",
              "      width: 32px;\n",
              "    }\n",
              "\n",
              "    .colab-df-convert:hover {\n",
              "      background-color: #E2EBFA;\n",
              "      box-shadow: 0px 1px 2px rgba(60, 64, 67, 0.3), 0px 1px 3px 1px rgba(60, 64, 67, 0.15);\n",
              "      fill: #174EA6;\n",
              "    }\n",
              "\n",
              "    .colab-df-buttons div {\n",
              "      margin-bottom: 4px;\n",
              "    }\n",
              "\n",
              "    [theme=dark] .colab-df-convert {\n",
              "      background-color: #3B4455;\n",
              "      fill: #D2E3FC;\n",
              "    }\n",
              "\n",
              "    [theme=dark] .colab-df-convert:hover {\n",
              "      background-color: #434B5C;\n",
              "      box-shadow: 0px 1px 3px 1px rgba(0, 0, 0, 0.15);\n",
              "      filter: drop-shadow(0px 1px 2px rgba(0, 0, 0, 0.3));\n",
              "      fill: #FFFFFF;\n",
              "    }\n",
              "  </style>\n",
              "\n",
              "    <script>\n",
              "      const buttonEl =\n",
              "        document.querySelector('#df-cb72164c-e164-457b-b63c-68427686ebe5 button.colab-df-convert');\n",
              "      buttonEl.style.display =\n",
              "        google.colab.kernel.accessAllowed ? 'block' : 'none';\n",
              "\n",
              "      async function convertToInteractive(key) {\n",
              "        const element = document.querySelector('#df-cb72164c-e164-457b-b63c-68427686ebe5');\n",
              "        const dataTable =\n",
              "          await google.colab.kernel.invokeFunction('convertToInteractive',\n",
              "                                                    [key], {});\n",
              "        if (!dataTable) return;\n",
              "\n",
              "        const docLinkHtml = 'Like what you see? Visit the ' +\n",
              "          '<a target=\"_blank\" href=https://colab.research.google.com/notebooks/data_table.ipynb>data table notebook</a>'\n",
              "          + ' to learn more about interactive tables.';\n",
              "        element.innerHTML = '';\n",
              "        dataTable['output_type'] = 'display_data';\n",
              "        await google.colab.output.renderOutput(dataTable, element);\n",
              "        const docLink = document.createElement('div');\n",
              "        docLink.innerHTML = docLinkHtml;\n",
              "        element.appendChild(docLink);\n",
              "      }\n",
              "    </script>\n",
              "  </div>\n",
              "\n",
              "\n",
              "<div id=\"df-36519b2f-ca87-4138-84da-e3898db05e61\">\n",
              "  <button class=\"colab-df-quickchart\" onclick=\"quickchart('df-36519b2f-ca87-4138-84da-e3898db05e61')\"\n",
              "            title=\"Suggest charts\"\n",
              "            style=\"display:none;\">\n",
              "\n",
              "<svg xmlns=\"http://www.w3.org/2000/svg\" height=\"24px\"viewBox=\"0 0 24 24\"\n",
              "     width=\"24px\">\n",
              "    <g>\n",
              "        <path d=\"M19 3H5c-1.1 0-2 .9-2 2v14c0 1.1.9 2 2 2h14c1.1 0 2-.9 2-2V5c0-1.1-.9-2-2-2zM9 17H7v-7h2v7zm4 0h-2V7h2v10zm4 0h-2v-4h2v4z\"/>\n",
              "    </g>\n",
              "</svg>\n",
              "  </button>\n",
              "\n",
              "<style>\n",
              "  .colab-df-quickchart {\n",
              "      --bg-color: #E8F0FE;\n",
              "      --fill-color: #1967D2;\n",
              "      --hover-bg-color: #E2EBFA;\n",
              "      --hover-fill-color: #174EA6;\n",
              "      --disabled-fill-color: #AAA;\n",
              "      --disabled-bg-color: #DDD;\n",
              "  }\n",
              "\n",
              "  [theme=dark] .colab-df-quickchart {\n",
              "      --bg-color: #3B4455;\n",
              "      --fill-color: #D2E3FC;\n",
              "      --hover-bg-color: #434B5C;\n",
              "      --hover-fill-color: #FFFFFF;\n",
              "      --disabled-bg-color: #3B4455;\n",
              "      --disabled-fill-color: #666;\n",
              "  }\n",
              "\n",
              "  .colab-df-quickchart {\n",
              "    background-color: var(--bg-color);\n",
              "    border: none;\n",
              "    border-radius: 50%;\n",
              "    cursor: pointer;\n",
              "    display: none;\n",
              "    fill: var(--fill-color);\n",
              "    height: 32px;\n",
              "    padding: 0;\n",
              "    width: 32px;\n",
              "  }\n",
              "\n",
              "  .colab-df-quickchart:hover {\n",
              "    background-color: var(--hover-bg-color);\n",
              "    box-shadow: 0 1px 2px rgba(60, 64, 67, 0.3), 0 1px 3px 1px rgba(60, 64, 67, 0.15);\n",
              "    fill: var(--button-hover-fill-color);\n",
              "  }\n",
              "\n",
              "  .colab-df-quickchart-complete:disabled,\n",
              "  .colab-df-quickchart-complete:disabled:hover {\n",
              "    background-color: var(--disabled-bg-color);\n",
              "    fill: var(--disabled-fill-color);\n",
              "    box-shadow: none;\n",
              "  }\n",
              "\n",
              "  .colab-df-spinner {\n",
              "    border: 2px solid var(--fill-color);\n",
              "    border-color: transparent;\n",
              "    border-bottom-color: var(--fill-color);\n",
              "    animation:\n",
              "      spin 1s steps(1) infinite;\n",
              "  }\n",
              "\n",
              "  @keyframes spin {\n",
              "    0% {\n",
              "      border-color: transparent;\n",
              "      border-bottom-color: var(--fill-color);\n",
              "      border-left-color: var(--fill-color);\n",
              "    }\n",
              "    20% {\n",
              "      border-color: transparent;\n",
              "      border-left-color: var(--fill-color);\n",
              "      border-top-color: var(--fill-color);\n",
              "    }\n",
              "    30% {\n",
              "      border-color: transparent;\n",
              "      border-left-color: var(--fill-color);\n",
              "      border-top-color: var(--fill-color);\n",
              "      border-right-color: var(--fill-color);\n",
              "    }\n",
              "    40% {\n",
              "      border-color: transparent;\n",
              "      border-right-color: var(--fill-color);\n",
              "      border-top-color: var(--fill-color);\n",
              "    }\n",
              "    60% {\n",
              "      border-color: transparent;\n",
              "      border-right-color: var(--fill-color);\n",
              "    }\n",
              "    80% {\n",
              "      border-color: transparent;\n",
              "      border-right-color: var(--fill-color);\n",
              "      border-bottom-color: var(--fill-color);\n",
              "    }\n",
              "    90% {\n",
              "      border-color: transparent;\n",
              "      border-bottom-color: var(--fill-color);\n",
              "    }\n",
              "  }\n",
              "</style>\n",
              "\n",
              "  <script>\n",
              "    async function quickchart(key) {\n",
              "      const quickchartButtonEl =\n",
              "        document.querySelector('#' + key + ' button');\n",
              "      quickchartButtonEl.disabled = true;  // To prevent multiple clicks.\n",
              "      quickchartButtonEl.classList.add('colab-df-spinner');\n",
              "      try {\n",
              "        const charts = await google.colab.kernel.invokeFunction(\n",
              "            'suggestCharts', [key], {});\n",
              "      } catch (error) {\n",
              "        console.error('Error during call to suggestCharts:', error);\n",
              "      }\n",
              "      quickchartButtonEl.classList.remove('colab-df-spinner');\n",
              "      quickchartButtonEl.classList.add('colab-df-quickchart-complete');\n",
              "    }\n",
              "    (() => {\n",
              "      let quickchartButtonEl =\n",
              "        document.querySelector('#df-36519b2f-ca87-4138-84da-e3898db05e61 button');\n",
              "      quickchartButtonEl.style.display =\n",
              "        google.colab.kernel.accessAllowed ? 'block' : 'none';\n",
              "    })();\n",
              "  </script>\n",
              "</div>\n",
              "\n",
              "    </div>\n",
              "  </div>\n"
            ],
            "application/vnd.google.colaboratory.intrinsic+json": {
              "type": "dataframe",
              "summary": "{\n  \"name\": \"df[num_cols]\",\n  \"rows\": 8,\n  \"fields\": [\n    {\n      \"column\": \"age\",\n      \"properties\": {\n        \"dtype\": \"number\",\n        \"std\": 273.3858199741017,\n        \"min\": 2.0,\n        \"max\": 800.0,\n        \"num_unique_values\": 8,\n        \"samples\": [\n          27.96375,\n          24.0,\n          800.0\n        ],\n        \"semantic_type\": \"\",\n        \"description\": \"\"\n      }\n    },\n    {\n      \"column\": \"result\",\n      \"properties\": {\n        \"dtype\": \"number\",\n        \"std\": 280.3686527518333,\n        \"min\": -6.137748048,\n        \"max\": 800.0,\n        \"num_unique_values\": 8,\n        \"samples\": [\n          8.537303106501248,\n          9.605299308,\n          800.0\n        ],\n        \"semantic_type\": \"\",\n        \"description\": \"\"\n      }\n    }\n  ]\n}"
            }
          },
          "metadata": {},
          "execution_count": 152
        }
      ],
      "source": [
        "# Descriptive statistics for numerical columns\n",
        "df[num_cols].describe()"
      ]
    },
    {
      "cell_type": "markdown",
      "metadata": {
        "id": "GZbegTOW1Zc0"
      },
      "source": [
        "**Insights**\n",
        "\n",
        "- Columns - A1_Score to A10_Score has value either 0 or 1, to be considered as binary variable\n",
        "- Age starts from min 2 yrs to max 89 yrs with median value in 24.8 yrs and average value in 28.45 yrs\n",
        "- Result value ranges from -6.13 to +15.85"
      ]
    },
    {
      "cell_type": "markdown",
      "metadata": {
        "id": "zAPsb9__7NB0"
      },
      "source": [
        "#### **Univariate Analysis**"
      ]
    },
    {
      "cell_type": "markdown",
      "metadata": {
        "id": "DaRcaUbD7W1o"
      },
      "source": [
        "**Numerical Features:**\n",
        "- age\n",
        "- result\n",
        "\n",
        "Here we Use histograms, box plots, and density plots to understand the distribution of each numerical feature."
      ]
    },
    {
      "cell_type": "code",
      "execution_count": null,
      "metadata": {
        "id": "3Q6_zyl8lsiq",
        "colab": {
          "base_uri": "https://localhost:8080/",
          "height": 500
        },
        "outputId": "76ca3bde-a573-4f26-8d9d-59d3ceab5b30"
      },
      "outputs": [
        {
          "output_type": "display_data",
          "data": {
            "text/plain": [
              "<Figure size 1000x500 with 2 Axes>"
            ],
            "image/png": "[encoded data removed]"
          },
          "metadata": {}
        }
      ],
      "source": [
        "features_to_plot = [\"age\", \"result\"]\n",
        "\n",
        "# Create histograms for the selected features\n",
        "df[features_to_plot].hist(figsize=(10, 5), bins=20)  # Adjust bins as needed\n",
        "plt.suptitle(\"Distribution of Selected Features\", fontsize=16)\n",
        "plt.show()\n"
      ]
    },
    {
      "cell_type": "code",
      "execution_count": null,
      "metadata": {
        "id": "HnFHxwaaEfSg",
        "colab": {
          "base_uri": "https://localhost:8080/",
          "height": 401
        },
        "outputId": "da0c916c-638f-43cf-835e-1577a0a85703"
      },
      "outputs": [
        {
          "output_type": "display_data",
          "data": {
            "text/plain": [
              "<Figure size 1200x400 with 2 Axes>"
            ],
            "image/png": "[encoded data removed]"
          },
          "metadata": {}
        }
      ],
      "source": [
        "# List of numerical columns you want to plot\n",
        "numeric_cols = ['age', 'result']\n",
        "\n",
        "# Set the figure size\n",
        "plt.figure(figsize=(12, 4))\n",
        "\n",
        "# Calculate the number of rows and columns for the subplots\n",
        "num_plots = len(numeric_cols)\n",
        "num_cols = 3  # Since you have 3 numerical columns\n",
        "num_rows = (num_plots // num_cols) + (1 if num_plots % num_cols != 0 else 0)\n",
        "\n",
        "# Plot boxplots dynamically based on the number of features\n",
        "for i, col in enumerate(numeric_cols, 1):\n",
        "    plt.subplot(num_rows, num_cols, i)\n",
        "    sns.boxplot(x=df[col])\n",
        "    plt.title(f\"Boxplot of {col}\")\n",
        "\n",
        "# Adjust layout\n",
        "plt.tight_layout()\n",
        "plt.show()\n"
      ]
    },
    {
      "cell_type": "markdown",
      "metadata": {
        "id": "FnyFEocKaqZR"
      },
      "source": [
        "**Categorical Features:**\n",
        "\n",
        " visualized the frequency distribution of categorical features by creating count plots for each categorical column in the dataset"
      ]
    },
    {
      "cell_type": "code",
      "execution_count": null,
      "metadata": {
        "id": "Xon-xZAHbCIZ",
        "colab": {
          "base_uri": "https://localhost:8080/",
          "height": 800
        },
        "outputId": "e40430f6-1d4e-4281-adea-bed70d209cb6"
      },
      "outputs": [
        {
          "output_type": "display_data",
          "data": {
            "text/plain": [
              "<Figure size 1200x800 with 15 Axes>"
            ],
            "image/png": "[encoded data removed]"
          },
          "metadata": {}
        }
      ],
      "source": [
        "# List of categorical columns\n",
        "categorical_cols = ['A1_Score', 'A2_Score', 'A3_Score', 'A4_Score', 'A5_Score', 'A6_Score',\n",
        "                    'A7_Score', 'A8_Score', 'A9_Score', 'A10_Score', 'gender', 'jaundice', 'austim',\n",
        "                    'used_app_before', 'relation']\n",
        "\n",
        "# Set the aesthetic style of the plots\n",
        "sns.set(style=\"whitegrid\")\n",
        "\n",
        "# Visualize the frequency distribution of categorical features\n",
        "plt.figure(figsize=(12, 8))\n",
        "plotnumber = 1\n",
        "\n",
        "for column in categorical_cols:\n",
        "    if plotnumber <= len(categorical_cols):\n",
        "        ax = plt.subplot(3, 5, plotnumber)\n",
        "        sns.countplot(x=column, data=df, hue=column, palette='rocket', legend=False)\n",
        "        plt.xlabel(column)\n",
        "        plt.title(f\"Count Plot for {column}\")\n",
        "        plotnumber += 1\n",
        "\n",
        "# Adjust layout to prevent overlap\n",
        "plt.tight_layout()\n",
        "plt.show()\n"
      ]
    },
    {
      "cell_type": "code",
      "execution_count": null,
      "metadata": {
        "id": "p-LFki9JdvZL",
        "colab": {
          "base_uri": "https://localhost:8080/",
          "height": 588
        },
        "outputId": "00173e01-6d59-4f2e-98e1-e02944362a4a"
      },
      "outputs": [
        {
          "output_type": "display_data",
          "data": {
            "text/plain": [
              "<Figure size 640x480 with 1 Axes>"
            ],
            "image/png": "[encoded data removed]"
          },
          "metadata": {}
        }
      ],
      "source": [
        "# Create the countplot\n",
        "sns.countplot(x=df[\"ethnicity\"])\n",
        "plt.title(\"Count Plot for Ethnicity\")\n",
        "plt.xlabel(\"Ethnicity\")\n",
        "plt.ylabel(\"Count\")\n",
        "\n",
        "# Rotate x-axis labels for better readability\n",
        "plt.xticks(rotation=90, ha='right')  # Rotate labels by 45 degrees and align them to the right\n",
        "\n",
        "plt.show()"
      ]
    },
    {
      "cell_type": "code",
      "execution_count": null,
      "metadata": {
        "id": "CvK5sZXleuuL",
        "colab": {
          "base_uri": "https://localhost:8080/",
          "height": 722
        },
        "outputId": "35ea3836-5cbc-4b0c-aceb-5c02bb1f961e"
      },
      "outputs": [
        {
          "output_type": "display_data",
          "data": {
            "text/plain": [
              "<Figure size 1400x600 with 1 Axes>"
            ],
            "image/png": "[encoded data removed]"
          },
          "metadata": {}
        }
      ],
      "source": [
        "# Set figure size to provide more space\n",
        "plt.figure(figsize=(14, 6))  # Adjust the width (12) to widen the space\n",
        "\n",
        "# Create the countplot\n",
        "sns.countplot(x=df[\"contry_of_res\"])\n",
        "plt.title(\"Count Plot for contry_of_res\")\n",
        "plt.xlabel(\"Country of Residence\")\n",
        "plt.ylabel(\"Count\")\n",
        "\n",
        "# Rotate x-axis labels for better readability\n",
        "plt.xticks(rotation=90, ha='center')  # Rotate labels by 90 degrees and align them to the center\n",
        "\n",
        "plt.show()\n"
      ]
    },
    {
      "cell_type": "code",
      "execution_count": null,
      "metadata": {
        "id": "3R-BPGFVdtjf",
        "colab": {
          "base_uri": "https://localhost:8080/",
          "height": 480
        },
        "outputId": "28719198-bc5c-485e-d433-ff2a24373706"
      },
      "outputs": [
        {
          "output_type": "display_data",
          "data": {
            "text/plain": [
              "<Figure size 640x480 with 1 Axes>"
            ],
            "image/png": "[encoded data removed]"
          },
          "metadata": {}
        }
      ],
      "source": [
        "# countplot for target column (Class/ASD)\n",
        "sns.countplot(x=df[\"Class/ASD\"])\n",
        "plt.title(\"Count Plot for Class/ASD\")\n",
        "plt.xlabel(\"Class/ASD\")\n",
        "plt.ylabel(\"Count\")\n",
        "plt.show()"
      ]
    },
    {
      "cell_type": "markdown",
      "metadata": {
        "id": "RayvM6loGqJK"
      },
      "source": [
        "####**Bivariate analysis**"
      ]
    },
    {
      "cell_type": "markdown",
      "source": [
        "Created stacked bar plots to visualize the relationship between each categorical feature and the target variable (Class/ASD), displaying frequencies"
      ],
      "metadata": {
        "id": "6Z9N1Wiiz9z_"
      }
    },
    {
      "cell_type": "code",
      "execution_count": null,
      "metadata": {
        "id": "KN0lDKzcGsmY",
        "colab": {
          "base_uri": "https://localhost:8080/",
          "height": 837
        },
        "outputId": "6a734935-4e73-4525-89a2-a32bc46d39bc"
      },
      "outputs": [
        {
          "output_type": "display_data",
          "data": {
            "text/plain": [
              "<Figure size 1600x1500 with 15 Axes>"
            ],
            "image/png": "[encoded data removed]"
          },
          "metadata": {}
        }
      ],
      "source": [
        "# List of categorical features\n",
        "categorical_cols = ['A1_Score', 'A2_Score', 'A3_Score', 'A4_Score', 'A5_Score', 'A6_Score',\n",
        "                    'A7_Score', 'A8_Score', 'A9_Score', 'A10_Score', 'gender', 'jaundice', 'austim',\n",
        "                    'used_app_before', 'relation']\n",
        "\n",
        "# Assuming 'target' is your target variable\n",
        "target = 'Class/ASD'\n",
        "\n",
        "num_cols = 5\n",
        "num_rows = 5\n",
        "\n",
        "# Create the subplots\n",
        "fig, axes = plt.subplots(num_rows, num_cols, figsize=(16, num_rows * 3), constrained_layout=True)\n",
        "\n",
        "# Flatten the axes for easy iteration\n",
        "axes = axes.flatten()\n",
        "\n",
        "# Iterate through each categorical feature and create a stacked bar plot\n",
        "for i, cat in enumerate(categorical_cols):\n",
        "    ax = axes[i]  # Select the subplot\n",
        "    df_ct = pd.crosstab(df[cat], df[target])  # Cross-tabulation\n",
        "    df_ct.plot(kind='bar', stacked=True, ax=ax, legend=False)  # Stacked bar plot\n",
        "    ax.set_title(f'{cat} vs {target}')\n",
        "    ax.set_xlabel(cat)\n",
        "    ax.set_ylabel('Frequency')\n",
        "    ax.tick_params(axis='x', rotation=45)\n",
        "\n",
        "# Remove any unused subplots\n",
        "for j in range(i + 1, len(axes)):\n",
        "    fig.delaxes(axes[j])\n",
        "\n",
        "# Add a single legend for the entire figure\n",
        "handles, labels = axes[0].get_legend_handles_labels()\n",
        "fig.legend(handles, labels, loc='upper right', title=target)\n",
        "\n",
        "plt.show()\n"
      ]
    },
    {
      "cell_type": "markdown",
      "metadata": {
        "id": "sh452CMlCJpO"
      },
      "source": [
        "##**Section 5: Data Preprocessing**\n",
        "In this step, we clean the data by handling missing values and encoding categorical variables. We also split the data into features and target variables, and scale the features if necessary.\n"
      ]
    },
    {
      "cell_type": "markdown",
      "metadata": {
        "id": "QknyrOeSriui"
      },
      "source": [
        "**Handle Outliers**"
      ]
    },
    {
      "cell_type": "code",
      "execution_count": null,
      "metadata": {
        "id": "BuZVoDI4rlyb",
        "colab": {
          "base_uri": "https://localhost:8080/"
        },
        "outputId": "84a0398c-4303-4f1d-b93d-fd66e8dc074b"
      },
      "outputs": [
        {
          "output_type": "execute_result",
          "data": {
            "text/plain": [
              "39"
            ]
          },
          "metadata": {},
          "execution_count": 160
        }
      ],
      "source": [
        "# count the outliers using IQR method\n",
        "Q1_age = df[\"age\"].quantile(0.25)\n",
        "Q3_age = df[\"age\"].quantile(0.75)\n",
        "IQR = Q3_age - Q1_age\n",
        "lower_bound_age = Q1_age - 1.5 * IQR\n",
        "upper_bound_age = Q3_age + 1.5 * IQR\n",
        "age_outliers = df[(df[\"age\"] < lower_bound_age) | (df[\"age\"] > upper_bound_age)]\n",
        "len(age_outliers)"
      ]
    },
    {
      "cell_type": "code",
      "execution_count": null,
      "metadata": {
        "id": "6sA-GrPfrsZd",
        "colab": {
          "base_uri": "https://localhost:8080/"
        },
        "outputId": "faf37913-b3c7-445a-e2d1-ea2116adaf99"
      },
      "outputs": [
        {
          "output_type": "execute_result",
          "data": {
            "text/plain": [
              "1"
            ]
          },
          "metadata": {},
          "execution_count": 161
        }
      ],
      "source": [
        "# count the outliers using IQR method\n",
        "Q1_result = df[\"result\"].quantile(0.25)\n",
        "Q3_result = df[\"result\"].quantile(0.75)\n",
        "IQR = Q3_result - Q1_result\n",
        "lower_bound_result = Q1_result - 1.5 * IQR\n",
        "upper_bound_result = Q3_result + 1.5 * IQR\n",
        "result_outliers = df[(df[\"result\"] < lower_bound_result) | (df[\"result\"] > upper_bound_result)]\n",
        "len(result_outliers)"
      ]
    },
    {
      "cell_type": "code",
      "execution_count": null,
      "metadata": {
        "id": "WKnocnbwCLG0"
      },
      "outputs": [],
      "source": [
        "# Capping the outliers in both columns at once\n",
        "df[\"age\"] = df[\"age\"].clip(lower=lower_bound_age, upper=upper_bound_age)\n",
        "df[\"result\"] = df[\"result\"].clip(lower=lower_bound_result, upper=upper_bound_result)"
      ]
    },
    {
      "cell_type": "code",
      "execution_count": null,
      "metadata": {
        "id": "Zcdcn0HEwrLV",
        "colab": {
          "base_uri": "https://localhost:8080/",
          "height": 401
        },
        "outputId": "f2a6b4ff-8f5c-4e68-d2a8-617e60ea7ce1"
      },
      "outputs": [
        {
          "output_type": "display_data",
          "data": {
            "text/plain": [
              "<Figure size 1200x400 with 2 Axes>"
            ],
            "image/png": "[encoded data removed]"
          },
          "metadata": {}
        }
      ],
      "source": [
        "numeric_cols = ['age', 'result']\n",
        "\n",
        "# Set the figure size\n",
        "plt.figure(figsize=(12, 4))\n",
        "\n",
        "# Calculate the number of rows and columns for the subplots\n",
        "num_plots = len(numeric_cols)\n",
        "num_cols = 3  # Since you have 3 numerical columns\n",
        "num_rows = (num_plots // num_cols) + (1 if num_plots % num_cols != 0 else 0)\n",
        "\n",
        "# Plot boxplots dynamically based on the number of features\n",
        "for i, col in enumerate(numeric_cols, 1):\n",
        "    plt.subplot(num_rows, num_cols, i)\n",
        "    sns.boxplot(x=df[col])\n",
        "    plt.title(f\"Boxplot of {col}\")\n",
        "\n",
        "# Adjust layout\n",
        "plt.tight_layout()\n",
        "plt.show()\n"
      ]
    },
    {
      "cell_type": "markdown",
      "metadata": {
        "id": "Xtk6nas3xqHL"
      },
      "source": [
        "**Handle Missing values**\n",
        "\n",
        "We handle missing values during the Basic Exploration phase."
      ]
    },
    {
      "cell_type": "markdown",
      "source": [
        "**Chi-Square Test of Independence Between Categorical Features and Target Variable**\n",
        "\n",
        "performs a Chi-square test of independence between categorical features and the target variable (Class/ASD) to evaluate if there's a significant relationship between them. Calculate p-value and the result, determining whether the variables are dependent or independent based on a significance level of 0.05."
      ],
      "metadata": {
        "id": "WbnEQgjB-dM8"
      }
    },
    {
      "cell_type": "code",
      "execution_count": null,
      "metadata": {
        "id": "oZsTT8Osy572",
        "colab": {
          "base_uri": "https://localhost:8080/"
        },
        "outputId": "2041d179-af92-44d5-df6a-b2dcd8f0a946"
      },
      "outputs": [
        {
          "output_type": "stream",
          "name": "stdout",
          "text": [
            "Column name - A1_Score\n",
            "p value is 4.104487536920418e-17\n",
            "Both variables are Dependent (reject H0)\n",
            "Column name - A2_Score\n",
            "p value is 1.3998012922364413e-25\n",
            "Both variables are Dependent (reject H0)\n",
            "Column name - A3_Score\n",
            "p value is 2.4007562062687566e-38\n",
            "Both variables are Dependent (reject H0)\n",
            "Column name - A4_Score\n",
            "p value is 4.8840206399536454e-45\n",
            "Both variables are Dependent (reject H0)\n",
            "Column name - A5_Score\n",
            "p value is 1.7931000962761736e-38\n",
            "Both variables are Dependent (reject H0)\n",
            "Column name - A6_Score\n",
            "p value is 1.3536803601031668e-52\n",
            "Both variables are Dependent (reject H0)\n",
            "Column name - A7_Score\n",
            "p value is 5.621312869749746e-37\n",
            "Both variables are Dependent (reject H0)\n",
            "Column name - A8_Score\n",
            "p value is 2.181610421234002e-18\n",
            "Both variables are Dependent (reject H0)\n",
            "Column name - A9_Score\n",
            "p value is 9.762852300543611e-39\n",
            "Both variables are Dependent (reject H0)\n",
            "Column name - A10_Score\n",
            "p value is 5.880205552224773e-22\n",
            "Both variables are Dependent (reject H0)\n",
            "Column name - gender\n",
            "p value is 0.9758243168741388\n",
            "Both variables are Independent (H0 holds true)\n",
            "\n",
            "Column name - jaundice\n",
            "p value is 0.00013300658957470307\n",
            "Both variables are Dependent (reject H0)\n",
            "Column name - austim\n",
            "p value is 1.0060560058593027e-23\n",
            "Both variables are Dependent (reject H0)\n",
            "Column name - used_app_before\n",
            "p value is 0.3745543476430917\n",
            "Both variables are Independent (H0 holds true)\n",
            "\n",
            "Column name - relation\n",
            "p value is 0.6039558099752106\n",
            "Both variables are Independent (H0 holds true)\n",
            "\n"
          ]
        }
      ],
      "source": [
        "# Function to conduct chi square test between categorical feature and target feature\n",
        "cat_cols = ['A1_Score', 'A2_Score', 'A3_Score', 'A4_Score', 'A5_Score', 'A6_Score',\n",
        "                    'A7_Score', 'A8_Score', 'A9_Score', 'A10_Score', 'gender', 'jaundice', 'austim',\n",
        "                    'used_app_before', 'relation']\n",
        "def chi_sq_test(ct):\n",
        "    # input crosstab of 2 categorical variables\n",
        "    stat, p, dof, expected = chi2_contingency(ct)\n",
        "\n",
        "    # interpret p-value\n",
        "    alpha = 0.05\n",
        "    print(\"p value is \" + str(p))\n",
        "    if p <= alpha:\n",
        "        print('Both variables are Dependent (reject H0)')\n",
        "    else:\n",
        "        print('Both variables are Independent (H0 holds true)\\n')\n",
        "\n",
        "\n",
        "# Function to perform chi-square test between categorical feature and target variable (no plotting)\n",
        "def cat_col_test(df, cat_colname, target_colname):\n",
        "    print(f\"Column name - {cat_colname}\")\n",
        "    ct = pd.crosstab(df[cat_colname], df[target_colname])\n",
        "    chi_sq_test(ct)\n",
        "\n",
        "# Run chi-square test on each categorical column\n",
        "for c in cat_cols:\n",
        "    cat_col_test(df, c, 'Class/ASD')\n"
      ]
    },
    {
      "cell_type": "markdown",
      "metadata": {
        "id": "y7J6kaAs1J0k"
      },
      "source": [
        "**Insights**\n",
        "\n",
        "- Retain Dependent Features: Focus on the dependent features (A1_Score to A10_Score, jaundice, and austim) as they are more likely to help in predicting the target variable.\n",
        "- Potential Removal of Independent Features: You may remove or further analyze the independent features (gender, used_app_before, relation), as they don’t seem to contribute to the prediction of the target."
      ]
    },
    {
      "cell_type": "code",
      "execution_count": null,
      "metadata": {
        "id": "JI27VT6C1a4P",
        "colab": {
          "base_uri": "https://localhost:8080/"
        },
        "outputId": "6233fa2e-2c92-4436-949b-d09662e4502a"
      },
      "outputs": [
        {
          "output_type": "stream",
          "name": "stdout",
          "text": [
            "   A1_Score  A2_Score  A3_Score  A4_Score  A5_Score  A6_Score  A7_Score  \\\n",
            "0         1         0         1         0         1         0         1   \n",
            "1         0         0         0         0         0         0         0   \n",
            "2         1         1         1         1         1         1         1   \n",
            "3         0         0         0         0         0         0         0   \n",
            "4         0         0         0         0         0         0         0   \n",
            "\n",
            "   A8_Score  A9_Score  A10_Score   age       ethnicity jaundice austim  \\\n",
            "0         0         1          1  38.0         Unknown       no     no   \n",
            "1         0         0          0  47.0         Unknown       no     no   \n",
            "2         1         1          1   7.0  White-European       no    yes   \n",
            "3         0         0          0  23.0         Unknown       no     no   \n",
            "4         0         0          0  43.0         Unknown       no     no   \n",
            "\n",
            "   contry_of_res     result  Class/ASD  \n",
            "0        Austria   6.351166          0  \n",
            "1          India   2.255185          0  \n",
            "2  United States  14.851484          1  \n",
            "3  United States   2.276617          0  \n",
            "4   South Africa  -4.777286          0  \n"
          ]
        }
      ],
      "source": [
        "# List of independent features (p-value > 0.05)\n",
        "independent_features = [''gender', 'used_app_before', 'relation]\n",
        "\n",
        "# Remove the independent features from the DataFrame\n",
        "df = df.drop(columns=independent_features)\n",
        "\n",
        "# Display the cleaned DataFrame\n",
        "print(df.head())\n"
      ]
    },
    {
      "cell_type": "markdown",
      "source": [
        "**Anova Test of Independence Between Numerical Features and Target Variable**\n",
        "\n",
        " Perform an ANOVA (Analysis of Variance) test to check if there's a significant difference in the means of a continuous feature across different categories of the target variable (e.g., Class/ASD)"
      ],
      "metadata": {
        "id": "4mErNV2Ojc1Q"
      }
    },
    {
      "cell_type": "code",
      "execution_count": null,
      "metadata": {
        "id": "LDqSP54u2zHM",
        "colab": {
          "base_uri": "https://localhost:8080/"
        },
        "outputId": "4930720c-de3c-42ae-ea1c-f015a9b7cf24"
      },
      "outputs": [
        {
          "output_type": "stream",
          "name": "stdout",
          "text": [
            "p-value for age: 0.0018933823367749422\n",
            "age is dependent on Class/ASD (reject H0)\n",
            "\n",
            "p-value for result: 9.52946261968497e-25\n",
            "result is dependent on Class/ASD (reject H0)\n",
            "\n"
          ]
        }
      ],
      "source": [
        "# Function to perform ANOVA for all numeric features\n",
        "def check_dependence(df, target_colname, numeric_cols, alpha=0.05):\n",
        "    significant_features = []\n",
        "    for col in numeric_cols:\n",
        "        # Perform ANOVA for each numerical feature with respect to the categorical target\n",
        "        groups = [df[df[target_colname] == category][col] for category in df[target_colname].unique()]\n",
        "        stat, p_value = stats.f_oneway(*groups)\n",
        "\n",
        "        # Interpret the p-value and store significant features\n",
        "        print(f\"p-value for {col}: {p_value}\")\n",
        "        if p_value <= alpha:\n",
        "            significant_features.append(col)\n",
        "            print(f\"{col} is dependent on {target_colname} (reject H0)\\n\")\n",
        "        else:\n",
        "            print(f\"{col} is independent of {target_colname} (H0 holds true)\\n\")\n",
        "\n",
        "    return significant_features\n",
        "\n",
        "# Example usage:\n",
        "numeric_cols = ['age','result']\n",
        "significant_features = check_dependence(df, 'Class/ASD', numeric_cols)\n"
      ]
    },
    {
      "cell_type": "markdown",
      "metadata": {
        "id": "_wEMz8BbqrGl"
      },
      "source": [
        "**Encoing Categorical Variables**"
      ]
    },
    {
      "cell_type": "markdown",
      "metadata": {
        "id": "_q_tn5w2uetk"
      },
      "source": [
        "The features \"jaundice\" and \"austim\" are binary categorical variables with values \"yes\" and \"no.\" Before encoding, these variables will be mapped to a binary format, where \"yes\" is represented as 1 and \"no\" as 0. This transformation ensures compatibility with machine learning models that require numerical inputs"
      ]
    },
    {
      "cell_type": "code",
      "execution_count": null,
      "metadata": {
        "id": "Vq1EfXA_quUh",
        "colab": {
          "base_uri": "https://localhost:8080/"
        },
        "outputId": "aa677cb6-336c-4092-a001-bb283c3146fa"
      },
      "outputs": [
        {
          "output_type": "stream",
          "name": "stdout",
          "text": [
            "jaundice\n",
            "0    615\n",
            "1    185\n",
            "Name: count, dtype: int64\n"
          ]
        }
      ],
      "source": [
        "# encoding for categorical variables with only 2 unique values\n",
        "df['jaundice'] = np.where(df['jaundice'] == 'yes',1,0)\n",
        "print(df['jaundice'].value_counts())"
      ]
    },
    {
      "cell_type": "code",
      "execution_count": null,
      "metadata": {
        "id": "TgXixzPsrd5f",
        "colab": {
          "base_uri": "https://localhost:8080/"
        },
        "outputId": "9cb79650-87a8-4ed2-91a7-ef829490b2bf"
      },
      "outputs": [
        {
          "output_type": "stream",
          "name": "stdout",
          "text": [
            "austim\n",
            "0    669\n",
            "1    131\n",
            "Name: count, dtype: int64\n"
          ]
        }
      ],
      "source": [
        "# encoding for categorical variables with only 2 unique values\n",
        "df['austim'] = np.where(df['austim'] == 'yes',1,0)\n",
        "print(df['austim'].value_counts())"
      ]
    },
    {
      "cell_type": "markdown",
      "metadata": {
        "id": "Q8Jt13w-wuxg"
      },
      "source": [
        "The \"ethnicity\" feature is a categorical variable with multiple unique values. Label encoding assigns a unique integer to each category based on its frequency in the dataset. By using the value_counts() method, we first identify the unique categories and their respective frequencies, and then assign an integer to each category in a way that reflects their frequency. This encoding helps convert categorical data into a numerical format that can be used by machine learning models, allowing the model to capture patterns associated with each category."
      ]
    },
    {
      "cell_type": "code",
      "execution_count": null,
      "metadata": {
        "id": "dPcIsvoSrh7s",
        "colab": {
          "base_uri": "https://localhost:8080/"
        },
        "outputId": "36b3ed48-bfb7-40b8-e3fe-3f220f13adcd"
      },
      "outputs": [
        {
          "output_type": "execute_result",
          "data": {
            "text/plain": [
              "{'White-European': 1,\n",
              " 'Unknown': 2,\n",
              " 'Middle Eastern ': 3,\n",
              " 'Asian': 4,\n",
              " 'Black': 5,\n",
              " 'South Asian': 6,\n",
              " 'Pasifika': 7,\n",
              " 'Others': 8,\n",
              " 'Latino': 9,\n",
              " 'Hispanic': 10,\n",
              " 'Turkish': 11,\n",
              " 'others': 12}"
            ]
          },
          "metadata": {},
          "execution_count": 169
        }
      ],
      "source": [
        "# Label encoding based on frequency values of categorical variable\n",
        "dict_ethnicity = dict(zip(df['ethnicity'].value_counts().index, range(1,df['ethnicity'].nunique()+1)))\n",
        "dict_ethnicity"
      ]
    },
    {
      "cell_type": "code",
      "execution_count": null,
      "metadata": {
        "id": "7LswQ9D6w_ho"
      },
      "outputs": [],
      "source": [
        "df['ethnicity'] = df['ethnicity'].map(dict_ethnicity)\n",
        "# Check the value counts in the 'ethnicity' column\n",
        "# print(df['ethnicity'].value_counts())"
      ]
    },
    {
      "cell_type": "markdown",
      "source": [
        " Following step groups the less frequent countries in the 'contry_of_res' column into an 'Other' category. This simplifies the encoding process by reducing the number of unique categories, ensuring more efficient handling of categorical data."
      ],
      "metadata": {
        "id": "__w9u-G-THwr"
      }
    },
    {
      "cell_type": "code",
      "source": [
        "# Calculate the frequency of each country in the 'contry_of_res' column\n",
        "country_freq = df['contry_of_res'].value_counts()\n",
        "\n",
        "# Select the top 16 countries based on frequency (the countries with the highest occurrence)\n",
        "top_16_countries = country_freq.head(16).index\n",
        "\n",
        "# Replace countries not in the top 16 with 'Other'\n",
        "df['contry_of_res'] = df['contry_of_res'].apply(lambda x: x if x in top_16_countries else 'Other')\n",
        "\n",
        "# Verify the changes\n",
        "print(df['contry_of_res'].value_counts())\n"
      ],
      "metadata": {
        "id": "QU3cwIUPBGHX",
        "colab": {
          "base_uri": "https://localhost:8080/"
        },
        "outputId": "c3c12ca3-7b52-479b-fdef-c8a07d4fdbe9"
      },
      "execution_count": null,
      "outputs": [
        {
          "output_type": "stream",
          "name": "stdout",
          "text": [
            "contry_of_res\n",
            "United States           138\n",
            "Other                   128\n",
            "India                   108\n",
            "New Zealand              78\n",
            "United Kingdom           67\n",
            "Jordan                   55\n",
            "United Arab Emirates     40\n",
            "Australia                37\n",
            "Canada                   30\n",
            "Afghanistan              22\n",
            "Netherlands              20\n",
            "Austria                  18\n",
            "Sri Lanka                17\n",
            "Brazil                   12\n",
            "France                   10\n",
            "Kazakhstan               10\n",
            "Spain                    10\n",
            "Name: count, dtype: int64\n"
          ]
        }
      ]
    },
    {
      "cell_type": "code",
      "source": [
        "dict_country = dict(zip(df['contry_of_res'].value_counts().index, range(1,df['contry_of_res'].nunique()+1)))"
      ],
      "metadata": {
        "id": "5kxXSx7KBYkH"
      },
      "execution_count": null,
      "outputs": []
    },
    {
      "cell_type": "code",
      "execution_count": null,
      "metadata": {
        "id": "Sij83DOQ1H_Z",
        "colab": {
          "base_uri": "https://localhost:8080/"
        },
        "outputId": "bbe53e42-5774-4452-df42-6da369ea789c"
      },
      "outputs": [
        {
          "output_type": "stream",
          "name": "stdout",
          "text": [
            "contry_of_res\n",
            "1     138\n",
            "2     128\n",
            "3     108\n",
            "4      78\n",
            "5      67\n",
            "6      55\n",
            "7      40\n",
            "8      37\n",
            "9      30\n",
            "10     22\n",
            "11     20\n",
            "12     18\n",
            "13     17\n",
            "14     12\n",
            "15     10\n",
            "16     10\n",
            "17     10\n",
            "Name: count, dtype: int64\n"
          ]
        }
      ],
      "source": [
        "df['contry_of_res'] = df['contry_of_res'].map(dict_country)\n",
        "print(df['contry_of_res'].value_counts())"
      ]
    },
    {
      "cell_type": "markdown",
      "metadata": {
        "id": "x6F9d-QJmnp1"
      },
      "source": [
        "**Train Test Split**\n"
      ]
    },
    {
      "cell_type": "code",
      "execution_count": null,
      "metadata": {
        "id": "FdOcNR6fmmPv"
      },
      "outputs": [],
      "source": [
        "X = df.drop(columns=[\"Class/ASD\"])\n",
        "y = df[\"Class/ASD\"]"
      ]
    },
    {
      "cell_type": "code",
      "execution_count": null,
      "metadata": {
        "id": "mpVT3420m0bY"
      },
      "outputs": [],
      "source": [
        "X_train, X_test, y_train, y_test = train_test_split(X, y, test_size=0.2, random_state=42)"
      ]
    },
    {
      "cell_type": "code",
      "execution_count": null,
      "metadata": {
        "id": "CJj2y9hnm4P7",
        "colab": {
          "base_uri": "https://localhost:8080/"
        },
        "outputId": "a706c8de-4dc7-4458-c4ac-a7b5dcbe686d"
      },
      "outputs": [
        {
          "output_type": "stream",
          "name": "stdout",
          "text": [
            "(640,)\n",
            "(160,)\n"
          ]
        }
      ],
      "source": [
        "print(y_train.shape)\n",
        "print(y_test.shape)"
      ]
    },
    {
      "cell_type": "code",
      "execution_count": null,
      "metadata": {
        "id": "txJsJ6sCnPuk",
        "colab": {
          "base_uri": "https://localhost:8080/"
        },
        "outputId": "a6a83c9f-5b8b-4d5f-db50-a83025e01c95"
      },
      "outputs": [
        {
          "output_type": "stream",
          "name": "stdout",
          "text": [
            "Class/ASD\n",
            "0    515\n",
            "1    125\n",
            "Name: count, dtype: int64\n"
          ]
        }
      ],
      "source": [
        "print(y_train.value_counts())"
      ]
    },
    {
      "cell_type": "markdown",
      "metadata": {
        "id": "OJ21zaZx4s4b"
      },
      "source": [
        "To address class imbalance, where one class has significantly more samples than the other, we can use Resampling Techniques\n",
        "\n",
        "- Oversampling the Minority Class (SMOTE - Synthetic Minority Over-sampling Technique): We create synthetic samples for the minority class to balance the class distribution.\n",
        "- Undersampling the Majority Class: We randomly remove samples from the majority class to balance the class distribution.\n",
        "\n",
        "We typically prefer SMOTE as it generates synthetic data points for the minority class rather than removing existing samples, which can lead to a loss of valuable information."
      ]
    },
    {
      "cell_type": "markdown",
      "metadata": {
        "id": "5evzd4W90XnD"
      },
      "source": [
        "**SMOTE**\n",
        "\n",
        "SMOTE (Synthetic Minority Over-sampling Technique) is a technique used to address class imbalance by creating synthetic samples for the minority class. Instead of simply duplicating existing samples, SMOTE generates new, artificial examples that are combinations of existing data points.\n",
        "\n"
      ]
    },
    {
      "cell_type": "code",
      "execution_count": null,
      "metadata": {
        "id": "NXysP65PnmE6"
      },
      "outputs": [],
      "source": [
        "smote = SMOTE(random_state=42)"
      ]
    },
    {
      "cell_type": "code",
      "execution_count": null,
      "metadata": {
        "id": "fKPviLMCn4j1",
        "colab": {
          "base_uri": "https://localhost:8080/"
        },
        "outputId": "48e5c87a-1f3f-4739-ef93-3087dc85e2a1"
      },
      "outputs": [
        {
          "output_type": "stream",
          "name": "stdout",
          "text": [
            "(1030,)\n"
          ]
        },
        {
          "output_type": "stream",
          "name": "stderr",
          "text": [
            "/usr/local/lib/python3.10/dist-packages/sklearn/base.py:474: FutureWarning: `BaseEstimator._validate_data` is deprecated in 1.6 and will be removed in 1.7. Use `sklearn.utils.validation.validate_data` instead. This function becomes public and is part of the scikit-learn developer API.\n",
            "  warnings.warn(\n",
            "/usr/local/lib/python3.10/dist-packages/sklearn/utils/_tags.py:354: FutureWarning: The SMOTE or classes from which it inherits use `_get_tags` and `_more_tags`. Please define the `__sklearn_tags__` method, or inherit from `sklearn.base.BaseEstimator` and/or other appropriate mixins such as `sklearn.base.TransformerMixin`, `sklearn.base.ClassifierMixin`, `sklearn.base.RegressorMixin`, and `sklearn.base.OutlierMixin`. From scikit-learn 1.7, not defining `__sklearn_tags__` will raise an error.\n",
            "  warnings.warn(\n"
          ]
        }
      ],
      "source": [
        "X_train_smote, y_train_smote = smote.fit_resample(X_train, y_train)\n",
        "print(y_train_smote.shape)"
      ]
    },
    {
      "cell_type": "code",
      "execution_count": null,
      "metadata": {
        "id": "4A32PWD9oCDb",
        "colab": {
          "base_uri": "https://localhost:8080/"
        },
        "outputId": "5dcf534a-3042-4bfc-b58a-ffdd25e2d91c"
      },
      "outputs": [
        {
          "output_type": "stream",
          "name": "stdout",
          "text": [
            "Class/ASD\n",
            "1    515\n",
            "0    515\n",
            "Name: count, dtype: int64\n"
          ]
        }
      ],
      "source": [
        "print(y_train_smote.value_counts())"
      ]
    },
    {
      "cell_type": "markdown",
      "metadata": {
        "id": "MR6nS84qCPXr"
      },
      "source": [
        "##**Section 6: Model Training**\n",
        "\n",
        "In this section, we will train three models: Decision Tree, Random Forest, and XGBoost. We will evaluate them using accuracy and classification report to establish a baseline performance.\n"
      ]
    },
    {
      "cell_type": "code",
      "source": [
        "cat_cols2 = ['A1_Score', 'A2_Score', 'A3_Score', 'A4_Score', 'A5_Score', 'A6_Score',\n",
        "                    'A7_Score', 'A8_Score', 'A9_Score', 'A10_Score', 'jaundice', 'austim','ethnicity','contry_of_res']"
      ],
      "metadata": {
        "id": "pXCL4kSObx0u"
      },
      "execution_count": null,
      "outputs": []
    },
    {
      "cell_type": "code",
      "source": [
        "# Dictionary of classifiers\n",
        "models = {\n",
        "    \"Decision Tree\": DecisionTreeClassifier(random_state=42),\n",
        "    \"Random Forest\": RandomForestClassifier(random_state=42),\n",
        "    \"CatBoost\": CatBoostClassifier(verbose=0, random_state=42),\n",
        "    \"CatBoost-2\": CatBoostClassifier(verbose=0, random_state=42,cat_features=cat_cols2),\n",
        "    \"SVM\": SVC(probability=True, random_state=42),\n",
        "    \"K-Nearest Neighbors\": KNeighborsClassifier(),\n",
        "    \"Naive Bayes\": GaussianNB(),\n",
        "    \"Extra Trees\": ExtraTreesClassifier(random_state=42)\n",
        "}\n"
      ],
      "metadata": {
        "id": "zHuQpHrZt-tP"
      },
      "execution_count": null,
      "outputs": []
    },
    {
      "cell_type": "code",
      "source": [
        "# dictionary to store the cross validation results\n",
        "cv_scores = {}\n",
        "# perform 5-fold cross validation for each model\n",
        "for model_name, model in models.items():\n",
        "  print(f\"Training {model_name} with default parameters...\")\n",
        "  scores = cross_val_score(model, X_train_smote, y_train_smote, cv=5, scoring=\"accuracy\")\n",
        "  cv_scores[model_name] = scores\n",
        "  print(f\"{model_name} Cross-Validation Accuracy: {np.mean(scores):.4f}\")\n",
        "  print(\"-\"*50)"
      ],
      "metadata": {
        "id": "63IZiW-4UUX4",
        "colab": {
          "base_uri": "https://localhost:8080/"
        },
        "outputId": "a93bddb4-5334-40b2-ef53-5fa28b6335dc"
      },
      "execution_count": null,
      "outputs": [
        {
          "output_type": "stream",
          "name": "stdout",
          "text": [
            "Training Decision Tree with default parameters...\n",
            "Decision Tree Cross-Validation Accuracy: 0.8699\n",
            "--------------------------------------------------\n",
            "Training Random Forest with default parameters...\n",
            "Random Forest Cross-Validation Accuracy: 0.9155\n",
            "--------------------------------------------------\n",
            "Training CatBoost with default parameters...\n",
            "CatBoost Cross-Validation Accuracy: 0.9146\n",
            "--------------------------------------------------\n",
            "Training CatBoost-2 with default parameters...\n",
            "CatBoost-2 Cross-Validation Accuracy: 0.9000\n",
            "--------------------------------------------------\n",
            "Training SVM with default parameters...\n",
            "SVM Cross-Validation Accuracy: 0.7981\n",
            "--------------------------------------------------\n",
            "Training K-Nearest Neighbors with default parameters...\n",
            "K-Nearest Neighbors Cross-Validation Accuracy: 0.8505\n",
            "--------------------------------------------------\n",
            "Training Naive Bayes with default parameters...\n",
            "Naive Bayes Cross-Validation Accuracy: 0.8214\n",
            "--------------------------------------------------\n",
            "Training Extra Trees with default parameters...\n",
            "Extra Trees Cross-Validation Accuracy: 0.9214\n",
            "--------------------------------------------------\n"
          ]
        }
      ]
    },
    {
      "cell_type": "code",
      "execution_count": null,
      "metadata": {
        "id": "lwZYAeUB1S6P",
        "colab": {
          "base_uri": "https://localhost:8080/"
        },
        "outputId": "d4fc0e28-e515-4803-8218-1460e7a60a65"
      },
      "outputs": [
        {
          "output_type": "execute_result",
          "data": {
            "text/plain": [
              "{'Decision Tree': array([0.82524272, 0.89805825, 0.87864078, 0.88349515, 0.86407767]),\n",
              " 'Random Forest': array([0.90291262, 0.94174757, 0.9223301 , 0.90291262, 0.90776699]),\n",
              " 'CatBoost': array([0.88834951, 0.94660194, 0.93203883, 0.89805825, 0.90776699]),\n",
              " 'CatBoost-2': array([0.88834951, 0.9223301 , 0.90291262, 0.89320388, 0.89320388]),\n",
              " 'SVM': array([0.7961165 , 0.7961165 , 0.80097087, 0.82524272, 0.77184466]),\n",
              " 'K-Nearest Neighbors': array([0.86407767, 0.85436893, 0.86893204, 0.83009709, 0.83495146]),\n",
              " 'Naive Bayes': array([0.86407767, 0.83495146, 0.80582524, 0.83495146, 0.76699029]),\n",
              " 'Extra Trees': array([0.91262136, 0.95145631, 0.92718447, 0.91262136, 0.90291262])}"
            ]
          },
          "metadata": {},
          "execution_count": 184
        }
      ],
      "source": [
        "cv_scores"
      ]
    },
    {
      "cell_type": "markdown",
      "source": [
        "##Model Evaluation and Comparison"
      ],
      "metadata": {
        "id": "4-5neI3gLpbK"
      }
    },
    {
      "cell_type": "code",
      "source": [
        "# Dictionary to store test results\n",
        "test_scores = {}\n",
        "\n",
        "# Train each model on the full training set and evaluate on the test set\n",
        "for model_name, model in models.items():\n",
        "    model.fit(X_train_smote, y_train_smote)  # Train the model\n",
        "    y_test_pred = model.predict(X_test)     # Predict on test data\n",
        "\n",
        "    # Calculate accuracy on the test set\n",
        "    test_accuracy = accuracy_score(y_test, y_test_pred)\n",
        "    test_scores[model_name] = test_accuracy\n",
        "\n",
        "    # Print test accuracy\n",
        "    print(f\"\\n{model_name} Test Accuracy: {test_accuracy:.4f}\")\n",
        "\n",
        "    # Print Confusion Matrix\n",
        "    print(\"\\nConfusion Matrix:\")\n",
        "    cm = confusion_matrix(y_test, y_test_pred)\n",
        "    print(cm)\n",
        "\n",
        "    # Print Classification Report\n",
        "    print(\"\\nClassification Report:\")\n",
        "    print(classification_report(y_test, y_test_pred))\n",
        "    print(\"=\" * 50)"
      ],
      "metadata": {
        "id": "V8HbVGrMLyPa",
        "colab": {
          "base_uri": "https://localhost:8080/"
        },
        "outputId": "477aa8bd-2782-4703-d5bb-a266db4bf753"
      },
      "execution_count": null,
      "outputs": [
        {
          "output_type": "stream",
          "name": "stdout",
          "text": [
            "\n",
            "Decision Tree Test Accuracy: 0.8187\n",
            "\n",
            "Confusion Matrix:\n",
            "[[107  17]\n",
            " [ 12  24]]\n",
            "\n",
            "Classification Report:\n",
            "              precision    recall  f1-score   support\n",
            "\n",
            "           0       0.90      0.86      0.88       124\n",
            "           1       0.59      0.67      0.62        36\n",
            "\n",
            "    accuracy                           0.82       160\n",
            "   macro avg       0.74      0.76      0.75       160\n",
            "weighted avg       0.83      0.82      0.82       160\n",
            "\n",
            "==================================================\n",
            "\n",
            "Random Forest Test Accuracy: 0.8438\n",
            "\n",
            "Confusion Matrix:\n",
            "[[109  15]\n",
            " [ 10  26]]\n",
            "\n",
            "Classification Report:\n",
            "              precision    recall  f1-score   support\n",
            "\n",
            "           0       0.92      0.88      0.90       124\n",
            "           1       0.63      0.72      0.68        36\n",
            "\n",
            "    accuracy                           0.84       160\n",
            "   macro avg       0.78      0.80      0.79       160\n",
            "weighted avg       0.85      0.84      0.85       160\n",
            "\n",
            "==================================================\n",
            "\n",
            "CatBoost Test Accuracy: 0.8562\n",
            "\n",
            "Confusion Matrix:\n",
            "[[110  14]\n",
            " [  9  27]]\n",
            "\n",
            "Classification Report:\n",
            "              precision    recall  f1-score   support\n",
            "\n",
            "           0       0.92      0.89      0.91       124\n",
            "           1       0.66      0.75      0.70        36\n",
            "\n",
            "    accuracy                           0.86       160\n",
            "   macro avg       0.79      0.82      0.80       160\n",
            "weighted avg       0.86      0.86      0.86       160\n",
            "\n",
            "==================================================\n",
            "\n",
            "CatBoost-2 Test Accuracy: 0.8500\n",
            "\n",
            "Confusion Matrix:\n",
            "[[107  17]\n",
            " [  7  29]]\n",
            "\n",
            "Classification Report:\n",
            "              precision    recall  f1-score   support\n",
            "\n",
            "           0       0.94      0.86      0.90       124\n",
            "           1       0.63      0.81      0.71        36\n",
            "\n",
            "    accuracy                           0.85       160\n",
            "   macro avg       0.78      0.83      0.80       160\n",
            "weighted avg       0.87      0.85      0.86       160\n",
            "\n",
            "==================================================\n",
            "\n",
            "SVM Test Accuracy: 0.7750\n",
            "\n",
            "Confusion Matrix:\n",
            "[[96 28]\n",
            " [ 8 28]]\n",
            "\n",
            "Classification Report:\n",
            "              precision    recall  f1-score   support\n",
            "\n",
            "           0       0.92      0.77      0.84       124\n",
            "           1       0.50      0.78      0.61        36\n",
            "\n",
            "    accuracy                           0.78       160\n",
            "   macro avg       0.71      0.78      0.73       160\n",
            "weighted avg       0.83      0.78      0.79       160\n",
            "\n",
            "==================================================\n",
            "\n",
            "K-Nearest Neighbors Test Accuracy: 0.7438\n",
            "\n",
            "Confusion Matrix:\n",
            "[[94 30]\n",
            " [11 25]]\n",
            "\n",
            "Classification Report:\n",
            "              precision    recall  f1-score   support\n",
            "\n",
            "           0       0.90      0.76      0.82       124\n",
            "           1       0.45      0.69      0.55        36\n",
            "\n",
            "    accuracy                           0.74       160\n",
            "   macro avg       0.67      0.73      0.69       160\n",
            "weighted avg       0.80      0.74      0.76       160\n",
            "\n",
            "==================================================\n",
            "\n",
            "Naive Bayes Test Accuracy: 0.8313\n",
            "\n",
            "Confusion Matrix:\n",
            "[[100  24]\n",
            " [  3  33]]\n",
            "\n",
            "Classification Report:\n",
            "              precision    recall  f1-score   support\n",
            "\n",
            "           0       0.97      0.81      0.88       124\n",
            "           1       0.58      0.92      0.71        36\n",
            "\n",
            "    accuracy                           0.83       160\n",
            "   macro avg       0.77      0.86      0.80       160\n",
            "weighted avg       0.88      0.83      0.84       160\n",
            "\n",
            "==================================================\n",
            "\n",
            "Extra Trees Test Accuracy: 0.8625\n",
            "\n",
            "Confusion Matrix:\n",
            "[[112  12]\n",
            " [ 10  26]]\n",
            "\n",
            "Classification Report:\n",
            "              precision    recall  f1-score   support\n",
            "\n",
            "           0       0.92      0.90      0.91       124\n",
            "           1       0.68      0.72      0.70        36\n",
            "\n",
            "    accuracy                           0.86       160\n",
            "   macro avg       0.80      0.81      0.81       160\n",
            "weighted avg       0.87      0.86      0.86       160\n",
            "\n",
            "==================================================\n"
          ]
        }
      ]
    },
    {
      "cell_type": "markdown",
      "source": [
        "| **Model**               | **Accuracy** | **Precision (Class 1)** | **Recall (Class 1)** |  \n",
        "|-------------------------|--------------|-------------------------|----------------------|  \n",
        "| **Decision Tree**        | 0.8187       | 0.59                    | 0.67                 |  \n",
        "| **Random Forest**        | 0.8438       | 0.63                    | 0.72                 |  \n",
        "| **CatBoost**             | 0.8562       | 0.66                    | 0.75                 |  \n",
        "| **CatBoost-2**           | 0.8500       | 0.63                    | 0.81                 |  \n",
        "| **SVM**                  | 0.7750       | 0.50                    | 0.78                 |  \n",
        "| **K-Nearest Neighbors**  | 0.7438       | 0.45                    | 0.69                 |  \n",
        "| **Naive Bayes**          | 0.8313       | 0.58                    | 0.92                 |  \n",
        "| **Extra Trees**          | 0.8625       | 0.68                    | 0.72                 |  \n"
      ],
      "metadata": {
        "id": "XFjvVThWQ5G7"
      }
    },
    {
      "cell_type": "markdown",
      "source": [
        "Key Takeaways:\n",
        "- Best Performing Models: CatBoost (0.8562) and Extra Trees (0.8625) show the highest accuracy and most balanced confusion matrices, with fewer misclassifications overall.\n",
        "- Challenges with SVM and KNN: Both SVM (0.7750) and KNN (0.7438) have lower accuracy and struggle more with misclassifying the positive class.\n"
      ],
      "metadata": {
        "id": "Ub3_ALtTbcuz"
      }
    },
    {
      "cell_type": "markdown",
      "metadata": {
        "id": "td4frUjdCUTZ"
      },
      "source": [
        "##**Hyperparameter Tuning**\n",
        "\n",
        "Here, we will perform hyperparameter tuning for each model using `GridSearchCV` to find the optimal parameters and improve model performance.\n"
      ]
    },
    {
      "cell_type": "code",
      "execution_count": null,
      "metadata": {
        "id": "NsvYkn776Isd"
      },
      "outputs": [],
      "source": [
        "# Initializing models\n",
        "random_forest = RandomForestClassifier(random_state=42)\n",
        "catboost_classifier = CatBoostClassifier(random_state=42, verbose=0)  # Set verbose=0 to suppress CatBoost logs\n",
        "extra_trees_classifier = ExtraTreesClassifier(random_state=42)"
      ]
    },
    {
      "cell_type": "code",
      "execution_count": null,
      "metadata": {
        "id": "X9QVq03BCVoX"
      },
      "outputs": [],
      "source": [
        "param_grid_rf = {\n",
        "    \"n_estimators\": [10,50, 100, 200],\n",
        "    \"max_depth\": [None, 10, 20, 30],\n",
        "    \"min_samples_split\": [2, 5, 10],\n",
        "    \"min_samples_leaf\": [1, 2, 4],\n",
        "    \"bootstrap\": [True, False]\n",
        "}\n",
        "\n",
        "param_grid_catboost = {\n",
        "    \"iterations\": [100, 200, 500],\n",
        "    \"depth\": [6, 8, 10],\n",
        "    \"learning_rate\": [0.01, 0.05, 0.1],\n",
        "    \"l2_leaf_reg\": [1, 3, 5],\n",
        "    \"border_count\": [32, 50, 100],\n",
        "    \"thread_count\": [4, 8, 16],\n",
        "}\n",
        "\n",
        "param_grid_extra_trees = {\n",
        "    \"n_estimators\": [50, 100, 200, 500],\n",
        "    \"max_depth\": [None, 10, 20, 30],\n",
        "    \"min_samples_split\": [2, 5, 10],\n",
        "    \"min_samples_leaf\": [1, 2, 4],\n",
        "    \"bootstrap\": [True, False],\n",
        "    \"criterion\": [\"gini\", \"entropy\"]\n",
        "}"
      ]
    },
    {
      "cell_type": "code",
      "source": [
        "# Perform RandomizedSearchCV for each model\n",
        "random_search_rf = RandomizedSearchCV(estimator=random_forest, param_distributions=param_grid_rf, n_iter=20, cv=5, scoring=\"accuracy\",random_state=42)\n",
        "random_search_catboost = RandomizedSearchCV(estimator=catboost_classifier, param_distributions=param_grid_catboost, n_iter=20, cv=5, scoring=\"accuracy\", random_state=42)\n",
        "random_search_extra_trees = RandomizedSearchCV(estimator=extra_trees_classifier, param_distributions=param_grid_extra_trees, n_iter=20, cv=5, scoring=\"accuracy\", random_state=42)\n",
        "\n",
        "# Fit the models\n",
        "random_search_rf.fit(X_train_smote, y_train_smote)\n",
        "random_search_catboost.fit(X_train_smote, y_train_smote)\n",
        "random_search_extra_trees.fit(X_train_smote, y_train_smote)\n",
        "\n",
        "# Retrieve the best models from each search\n",
        "best_rf = random_search_rf.best_estimator_\n",
        "best_catboost = random_search_catboost.best_estimator_\n",
        "best_extra_trees = random_search_extra_trees.best_estimator_\n",
        "\n",
        "# You can print or save the best models and their respective scores if needed\n",
        "\n",
        "print(f\"Best Random Forest: {best_rf}\")\n",
        "print(f\"Best Score: {random_search_rf.best_score_}\")\n",
        "print(f\"Best CatBoost: {best_catboost}\")\n",
        "print(f\"Best Score: {random_search_catboost.best_score_}\")\n",
        "print(f\"Best Extra Trees: {best_extra_trees}\")\n",
        "print(f\"Best Score: {random_search_extra_trees.best_score_}\")\n"
      ],
      "metadata": {
        "id": "TsyLc7DOzTPz",
        "colab": {
          "base_uri": "https://localhost:8080/"
        },
        "outputId": "a704952d-14cd-4745-f57d-42712832791c"
      },
      "execution_count": null,
      "outputs": [
        {
          "output_type": "stream",
          "name": "stdout",
          "text": [
            "Best Random Forest: RandomForestClassifier(bootstrap=False, max_depth=20, min_samples_split=5,\n",
            "                       random_state=42)\n",
            "Best Score: 0.925242718446602\n",
            "Best CatBoost: <catboost.core.CatBoostClassifier object at 0x7ce7fee78c40>\n",
            "Best Score: 0.925242718446602\n",
            "Best Extra Trees: ExtraTreesClassifier(max_depth=30, min_samples_split=5, n_estimators=50,\n",
            "                     random_state=42)\n",
            "Best Score: 0.921359223300971\n"
          ]
        }
      ]
    },
    {
      "cell_type": "code",
      "source": [
        "# # Perform GridSearchCV for each model\n",
        "# grid_search_rf = GridSearchCV(estimator=random_forest, param_grid=param_grid_rf, cv=5, scoring=\"accuracy\", n_jobs=-1)\n",
        "# grid_search_catboost = GridSearchCV(estimator=catboost_classifier, param_grid=param_grid_catboost, cv=5, scoring=\"accuracy\", n_jobs=-1)\n",
        "# grid_search_extra_trees = GridSearchCV(estimator=extra_trees_classifier, param_grid=param_grid_extra_trees, cv=5, scoring=\"accuracy\", n_jobs=-1)\n",
        "\n",
        "# # Fit the models\n",
        "# grid_search_rf.fit(X_train_smote, y_train_smote)\n",
        "# grid_search_catboost.fit(X_train_smote, y_train_smote)\n",
        "# grid_search_extra_trees.fit(X_train_smote, y_train_smote)\n",
        "\n",
        "# # Retrieve the best models from each search\n",
        "# best_rf = grid_search_rf.best_estimator_\n",
        "# best_catboost = grid_search_catboost.best_estimator_\n",
        "# best_extra_trees = grid_search_extra_trees.best_estimator_\n",
        "\n",
        "# # print best models and their respective scores if needed\n",
        "\n",
        "# print(f\"Best Random Forest: {best_rf}\")\n",
        "# print(f\"Best Score: {grid_search_rf.best_score_}\")\n",
        "# print(f\"Best CatBoost: {best_catboost}\")\n",
        "# print(f\"Best Score: {grid_search_catboost.best_score_}\")\n",
        "# print(f\"Best Extra Trees: {best_extra_trees}\")\n",
        "# print(f\"Best Score: {grid_search_extra_trees.best_score_}\")"
      ],
      "metadata": {
        "id": "nubC7rFukQch"
      },
      "execution_count": null,
      "outputs": []
    },
    {
      "cell_type": "markdown",
      "source": [
        "##Model Evaluation and Comparison (after Hyperparameter Tuning)"
      ],
      "metadata": {
        "id": "L5BWwcYHgxGw"
      }
    },
    {
      "cell_type": "code",
      "source": [
        "# Function to evaluate a model on the test data\n",
        "def evaluate_on_test(model, X_test, y_test, model_name):\n",
        "    print(f\"---------------- {model_name} ---------------------\")\n",
        "    y_test_pred = model.predict(X_test)\n",
        "    accuracy = accuracy_score(y_test, y_test_pred)\n",
        "    print(f\"Test Accuracy: {accuracy:.4f}\")\n",
        "    print(\"\\nConfusion Matrix:\")\n",
        "    print(confusion_matrix(y_test, y_test_pred))\n",
        "    print(\"\\nClassification Report:\")\n",
        "    print(classification_report(y_test, y_test_pred))\n",
        "    print(\"\\n\")\n",
        "\n",
        "# Evaluate Random Forest\n",
        "evaluate_on_test(best_rf, X_test, y_test, \"Random Forest\")\n",
        "\n",
        "# Evaluate CatBoost\n",
        "evaluate_on_test(best_catboost, X_test, y_test, \"CatBoost\")\n",
        "\n",
        "# Evaluate Extra Trees\n",
        "evaluate_on_test(best_extra_trees, X_test, y_test, \"Extra Trees\")\n"
      ],
      "metadata": {
        "id": "DXVu_BLMgx-G",
        "colab": {
          "base_uri": "https://localhost:8080/"
        },
        "outputId": "b06aa0e9-ffca-48c5-bd57-223b5217c261"
      },
      "execution_count": null,
      "outputs": [
        {
          "output_type": "stream",
          "name": "stdout",
          "text": [
            "---------------- Random Forest ---------------------\n",
            "Test Accuracy: 0.8438\n",
            "\n",
            "Confusion Matrix:\n",
            "[[110  14]\n",
            " [ 11  25]]\n",
            "\n",
            "Classification Report:\n",
            "              precision    recall  f1-score   support\n",
            "\n",
            "           0       0.91      0.89      0.90       124\n",
            "           1       0.64      0.69      0.67        36\n",
            "\n",
            "    accuracy                           0.84       160\n",
            "   macro avg       0.78      0.79      0.78       160\n",
            "weighted avg       0.85      0.84      0.85       160\n",
            "\n",
            "\n",
            "\n",
            "---------------- CatBoost ---------------------\n",
            "Test Accuracy: 0.8688\n",
            "\n",
            "Confusion Matrix:\n",
            "[[112  12]\n",
            " [  9  27]]\n",
            "\n",
            "Classification Report:\n",
            "              precision    recall  f1-score   support\n",
            "\n",
            "           0       0.93      0.90      0.91       124\n",
            "           1       0.69      0.75      0.72        36\n",
            "\n",
            "    accuracy                           0.87       160\n",
            "   macro avg       0.81      0.83      0.82       160\n",
            "weighted avg       0.87      0.87      0.87       160\n",
            "\n",
            "\n",
            "\n",
            "---------------- Extra Trees ---------------------\n",
            "Test Accuracy: 0.8750\n",
            "\n",
            "Confusion Matrix:\n",
            "[[112  12]\n",
            " [  8  28]]\n",
            "\n",
            "Classification Report:\n",
            "              precision    recall  f1-score   support\n",
            "\n",
            "           0       0.93      0.90      0.92       124\n",
            "           1       0.70      0.78      0.74        36\n",
            "\n",
            "    accuracy                           0.88       160\n",
            "   macro avg       0.82      0.84      0.83       160\n",
            "weighted avg       0.88      0.88      0.88       160\n",
            "\n",
            "\n",
            "\n"
          ]
        }
      ]
    },
    {
      "cell_type": "markdown",
      "source": [
        "| **Model**       | **Accuracy** | **Precision (Class 1)** | **Recall (Class 1)** |  \n",
        "|-----------------|--------------|-------------------------|----------------------|  \n",
        "| **Random Forest** | 0.8438       | 0.64                    | 0.69                 |  \n",
        "| **CatBoost**     | 0.8688       | 0.69                    | 0.75                 |  \n",
        "| **Extra Trees**  | 0.8750       | 0.70                    | 0.78                 |  \n"
      ],
      "metadata": {
        "id": "PW_0guhBIffh"
      }
    },
    {
      "cell_type": "markdown",
      "source": [
        "Summary :\n",
        "- Best Overall Model: Extra Trees , providing the best balance across all metrics.\n",
        "- Improved Performance: CatBoost also shows significant improvement with strong recall for Class 1"
      ],
      "metadata": {
        "id": "oEVTTpg4cx8D"
      }
    },
    {
      "cell_type": "markdown",
      "source": [
        "##**Ensemble Learning..cont**"
      ],
      "metadata": {
        "id": "iQs_S_034vo9"
      }
    },
    {
      "cell_type": "markdown",
      "metadata": {
        "id": "9q0W4er9CZZu"
      },
      "source": [
        "### **Voting Classifier**\n",
        "\n",
        "In this section, we will use an ensemble approach with a **Voting Classifier**, combining the predictions of multiple models (Extra Trees, Random Forest, and CatBoost)"
      ]
    },
    {
      "cell_type": "code",
      "source": [
        "# Creating the voting classifier\n",
        "voting_clf = VotingClassifier(\n",
        "    estimators=[\n",
        "        ('rf', best_rf),\n",
        "        ('cat', best_catboost),\n",
        "        ('extraTree', best_extra_trees)\n",
        "    ],\n",
        "    voting='soft'\n",
        ")\n"
      ],
      "metadata": {
        "id": "cELz8DKYle6h"
      },
      "execution_count": null,
      "outputs": []
    },
    {
      "cell_type": "markdown",
      "source": [
        "**Why These Models?**\n",
        "\n",
        "* Diversity in Learning:\n",
        "\n",
        "  - Extra Trees and Random Forest are tree-based models, but Extra Trees introduces more randomness in splitting decisions, potentially making them more diverse.\n",
        "CatBoost is a boosting method that focuses on iterative improvement of weak models, offering a different approach than bagging methods like Random Forest and Extra Trees.\n",
        "* Accuracy:\n",
        "\n",
        "  - Extra Trees, Random Forest, and CatBoost offer the best performance with very close cross-validation accuracies, meaning they are strong individually and can complement each other in an ensemble.\n",
        "\n",
        "**Voting Strategy:**\n",
        "\n",
        "Soft Voting is the better approach since all of these models provide probability predictions, and soft voting will take these into account for improved accuracy."
      ],
      "metadata": {
        "id": "_npn9LPDQpWv"
      }
    },
    {
      "cell_type": "code",
      "source": [
        "# Train the voting classifier\n",
        "voting_clf.fit(X_train_smote, y_train_smote)\n",
        "\n",
        "# Predict on test data\n",
        "y_test_pred = voting_clf.predict(X_test)\n",
        "\n",
        "# Evaluate the performance\n",
        "accuracy = accuracy_score(y_test, y_test_pred)\n",
        "print(\"Voting Classifier Accuracy on Test Data:\", accuracy)\n",
        "\n",
        "print(\"\\nClassification Report:\")\n",
        "print(classification_report(y_test, y_test_pred))\n",
        "\n",
        "# Display confusion matrix and classification report\n",
        "print(\"\\nConfusion Matrix:\")\n",
        "cm=confusion_matrix(y_test, y_test_pred)\n",
        "print(cm)\n",
        "\n",
        "# Plot confusion matrix\n",
        "plt.figure(figsize=(6, 5))\n",
        "sns.heatmap(cm, annot=True, fmt='d', cmap='Blues', xticklabels=['Class 0', 'Class 1'], yticklabels=['Class 0', 'Class 1'])\n",
        "plt.xlabel('Predicted')\n",
        "plt.ylabel('True')\n",
        "plt.title('Confusion Matrix')\n",
        "plt.show()"
      ],
      "metadata": {
        "id": "-E80Gk8mo7fl",
        "colab": {
          "base_uri": "https://localhost:8080/",
          "height": 774
        },
        "outputId": "b6357dfd-3959-49f3-b44b-adb4e688c3c0"
      },
      "execution_count": null,
      "outputs": [
        {
          "output_type": "stream",
          "name": "stdout",
          "text": [
            "Voting Classifier Accuracy on Test Data: 0.86875\n",
            "\n",
            "Classification Report:\n",
            "              precision    recall  f1-score   support\n",
            "\n",
            "           0       0.93      0.90      0.91       124\n",
            "           1       0.69      0.75      0.72        36\n",
            "\n",
            "    accuracy                           0.87       160\n",
            "   macro avg       0.81      0.83      0.82       160\n",
            "weighted avg       0.87      0.87      0.87       160\n",
            "\n",
            "\n",
            "Confusion Matrix:\n",
            "[[112  12]\n",
            " [  9  27]]\n"
          ]
        },
        {
          "output_type": "display_data",
          "data": {
            "text/plain": [
              "<Figure size 600x500 with 2 Axes>"
            ],
            "image/png": "[encoded data removed]"
          },
          "metadata": {}
        }
      ]
    },
    {
      "cell_type": "markdown",
      "source": [
        " ### **Stacking Classifier**\n",
        "\n",
        "In this section, we will use an ensemble approach with a **Stacking Classifier**, which combines the predictions of multiple base models (Random Forest and Gradient Boosting) and uses a meta-model (Random Forest) to make the final prediction"
      ],
      "metadata": {
        "id": "tFNeJoKK2yjp"
      }
    },
    {
      "cell_type": "code",
      "source": [
        "# Define base models\n",
        "rf = RandomForestClassifier(random_state=42)\n",
        "gb = GradientBoostingClassifier(random_state=42)\n",
        "\n",
        "# Define stacking classifier\n",
        "stack = StackingClassifier(\n",
        "    estimators=[('rf', rf), ('gb', gb)],  # Base models\n",
        "    final_estimator=RandomForestClassifier(random_state=42)  # Meta-model\n",
        ")"
      ],
      "metadata": {
        "id": "bX7mV4VtvKTb"
      },
      "execution_count": null,
      "outputs": []
    },
    {
      "cell_type": "code",
      "source": [
        "# Train the stacking classifier\n",
        "stack.fit(X_train_smote, y_train_smote)\n",
        "\n",
        "##########################\n",
        "# Evaluate on the test set\n",
        "y_pred_stack_train = stack.predict(X_train_smote)\n",
        "accuracy = accuracy_score( y_train_smote, y_pred_stack_train)\n",
        "print(f\"Stacking Classifier training Accuracy: {accuracy:.4f}\")\n",
        "\n",
        "##########################\n",
        "# Evaluate on the test set\n",
        "y_pred_stack = stack.predict(X_test)\n",
        "\n",
        "# Accuracy score\n",
        "accuracy = accuracy_score(y_test, y_pred_stack)\n",
        "print(f\"Stacking Classifier Test Accuracy: {accuracy:.4f}\")\n",
        "\n",
        "# Classification report\n",
        "print(\"\\nClassification Report:\")\n",
        "print(classification_report(y_test, y_pred_stack))\n",
        "\n",
        "# Confusion matrix\n",
        "cm = confusion_matrix(y_test, y_pred_stack)\n",
        "print(\"\\nConfusion Matrix:\")\n",
        "print(cm)\n",
        "\n",
        "# Plot confusion matrix\n",
        "plt.figure(figsize=(6, 5))\n",
        "sns.heatmap(cm, annot=True, fmt='d', cmap='Blues', xticklabels=['Class 0', 'Class 1'], yticklabels=['Class 0', 'Class 1'])\n",
        "plt.xlabel('Predicted')\n",
        "plt.ylabel('True')\n",
        "plt.title('Confusion Matrix')\n",
        "plt.show()\n"
      ],
      "metadata": {
        "id": "FHyDuaZZvrdp",
        "colab": {
          "base_uri": "https://localhost:8080/",
          "height": 791
        },
        "outputId": "9a2e2c4a-99b0-4d75-a01f-bd3e9bfac284"
      },
      "execution_count": null,
      "outputs": [
        {
          "output_type": "stream",
          "name": "stdout",
          "text": [
            "Stacking Classifier training Accuracy: 0.9971\n",
            "Stacking Classifier Test Accuracy: 0.8938\n",
            "\n",
            "Classification Report:\n",
            "              precision    recall  f1-score   support\n",
            "\n",
            "           0       0.93      0.93      0.93       124\n",
            "           1       0.76      0.78      0.77        36\n",
            "\n",
            "    accuracy                           0.89       160\n",
            "   macro avg       0.85      0.85      0.85       160\n",
            "weighted avg       0.89      0.89      0.89       160\n",
            "\n",
            "\n",
            "Confusion Matrix:\n",
            "[[115   9]\n",
            " [  8  28]]\n"
          ]
        },
        {
          "output_type": "display_data",
          "data": {
            "text/plain": [
              "<Figure size 600x500 with 2 Axes>"
            ],
            "image/png": "[encoded data removed]"
          },
          "metadata": {}
        }
      ]
    },
    {
      "cell_type": "markdown",
      "source": [
        "### **Conclusion**"
      ],
      "metadata": {
        "id": "c8_5ti-IawfQ"
      }
    },
    {
      "cell_type": "markdown",
      "source": [
        "Based on the provided performance metrics, the Stacking Classifier appears to be the most suitable model for this problem. Here’s the reasoning:\n",
        "\n",
        "1. Highest Accuracy\n",
        "The Stacking Classifier achieved the highest test accuracy of 89.38%, outperforming all other models, indicating better overall prediction performance.\n",
        "2. Balanced Performance (Macro Avg)\n",
        "The macro average f1-score for the Stacking Classifier is 0.85, reflecting a good balance between precision and recall for both classes. This is crucial, especially for datasets with class imbalance (e.g., ASD detection).\n",
        "3. Better Recall for the Minority Class\n",
        "For Class 1 (ASD detection), the recall of the Stacking Classifier is 0.78, which is higher than Random Forest (0.64), CatBoost (0.75), and Extra Trees (0.78). A high recall is vital because identifying true positives is more critical in ASD prediction.\n",
        "4. Precision is Maintained\n",
        "While improving recall, the Stacking Classifier maintains a precision of 0.76 for Class 1, indicating fewer false positives relative to CatBoost and Extra Trees.\n",
        "5. Low False Negatives\n",
        "The confusion matrix for the Stacking Classifier shows only 8 false negatives, which is the lowest among all models. Minimizing false negatives is essential to reduce the risk of missed ASD cases.\n",
        "\n",
        "**Justification**:\n",
        "\n",
        "The Stacking Classifier combines the strengths of multiple models, leading to improved generalization and superior performance.\n",
        "It provides the most reliable results for critical metrics like recall and macro-average f1-score, making it suitable for a sensitive task like ASD detection.\n"
      ],
      "metadata": {
        "id": "hsa0SUhi-8vk"
      }
    },
    {
      "cell_type": "code",
      "source": [
        "# END - - -"
      ],
      "metadata": {
        "id": "tsA1CINLmSSd"
      },
      "execution_count": null,
      "outputs": []
    },
    {
      "cell_type": "markdown",
      "source": [
        "**Next Steps to Improve Performance:**\n",
        "\n",
        "Focusing on Recall: Prioritize recall for Class 1 to minimize missed autism cases."
      ],
      "metadata": {
        "id": "35XUJZ54_GQI"
      }
    }
  ],
  "metadata": {
    "colab": {
      "provenance": [],
      "collapsed_sections": [
        "UWo1oaUgBXxi",
        "GSU79G3lBrry",
        "2Eb8zV2-adVe",
        "BKkIb5T16K3t",
        "RayvM6loGqJK",
        "L5BWwcYHgxGw"
      ],
      "authorship_tag": "ABX9TyMzMMmDnnAxrKB1QhYbDttn",
      "include_colab_link": true
    },
    "kernelspec": {
      "display_name": "Python 3",
      "name": "python3"
    },
    "language_info": {
      "name": "python"
    }
  },
  "nbformat": 4,
  "nbformat_minor": 0
}